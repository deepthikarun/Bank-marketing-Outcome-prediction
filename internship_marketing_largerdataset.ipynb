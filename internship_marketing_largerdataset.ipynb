{
  "nbformat": 4,
  "nbformat_minor": 0,
  "metadata": {
    "accelerator": "GPU",
    "colab": {
      "name": "internship_marketing_largerdataset.ipynb",
      "provenance": [],
      "collapsed_sections": []
    },
    "kernelspec": {
      "display_name": "Python 3",
      "language": "python",
      "name": "python3"
    },
    "language_info": {
      "codemirror_mode": {
        "name": "ipython",
        "version": 3
      },
      "file_extension": ".py",
      "mimetype": "text/x-python",
      "name": "python",
      "nbconvert_exporter": "python",
      "pygments_lexer": "ipython3",
      "version": "3.8.5"
    }
  },
  "cells": [
    {
      "cell_type": "markdown",
      "metadata": {
        "id": "LlWh2uPEGBcw"
      },
      "source": [
        "### **Abstract :**\n",
        "The data is related to direct marketing campaigns (phone calls) of a banking institution.\n",
        "\n",
        "### **Problem statement :**\n",
        " The classification goal of the project is to predict if the client will subscribe a term deposit.\n",
        "\n",
        "## Table of Contents\n",
        "1. Getting the system ready and loading the data\n",
        "1. Understanding the data\n",
        "1. Exploratory Data Analysis (EDA) <br />\n",
        "    i. Univariate Analysis <br />\n",
        "    ii. Bivariate Analysis <br />\n",
        "1. Missing value and outlier treatment\n",
        "1. Feature Importance\n",
        "1. Transformation Pipeline\n",
        "1. Model Building: Part 1\n",
        "1. Feature Engineering\n",
        "1. Model Building: Part 2\n",
        "1. SMOTE Analysis <br />\n",
        "    i. Random Forest <br />\n",
        "    ii.  XGBoost <br />\n",
        "    iii. Support Vector Machine <br />\n",
        "    iv. KNearest Neighbour <br />\n",
        " 1. Model saving \n",
        " 1. Model Testing   \n",
        "\n",
        "**Analysis objectives :**\n",
        "- Find the best strategies to improve the next marketing campaign.\n",
        "- How can the financial institution have a greater effectiveness for future marketing campaigns? \n",
        "- In order to answer this, we have to analyze the last marketing campaign the bank performed and identify the patterns that will help us find conclusions in order to develop future strategies.\n",
        "\n",
        "\n",
        "##  Dataset Source\n",
        "\n",
        "This dataset is about the direct phone call marketing campaigns, which aim to promote term deposits among existing customers, by a Portuguese banking institution from May 2008 to November 2010. It is publicly available in the UCI Machine learning Repository, which can be retrieved from http://archive.ics.uci.edu/ml/datasets/Bank+Marketing#.\n",
        "\n",
        "## Attribute Information:\n",
        "\n",
        "1 - *age* : (numeric)\n",
        "\n",
        "2 - *job* : type of job (categorical)\n",
        "\n",
        "3 - *marital* : marital status (categorical)\n",
        "\n",
        "4 - *education* (categorical)\n",
        "\n",
        "5 - *default* : has credit in default? (categorical)\n",
        "\n",
        "6 - *housing* : has housing loan? (categorical)\n",
        "\n",
        "7 - *loan* : has personal loan? (categorical)\n",
        "\n",
        "### <span style=\"color: green;\">**related with the last contact of the current campaign:**</span>\n",
        "8 - *contact* : contact communication type (categorical)\n",
        "\n",
        "9 - *month* : last contact month of year (categorical)\n",
        "\n",
        "10 - *day* : last contact day of the week (categorical)\n",
        "\n",
        "11 - *duration* : last contact duration, in seconds (numeric). Important note: this attribute highly affects the output target (e.g., if duration=0 then y='no'). Yet, the duration is not known before a call is performed. Also, after the end of the call y is obviously known. Thus, this input should only be included for benchmark purposes and should be discarded if the intention is to have a realistic predictive model.\n",
        "\n",
        "### <span style=\"color: green;\">**other attributes**</span> \n",
        "12 - *campaign* : number of contacts performed during this campaign and for this client (numeric, includes last contact)\n",
        "\n",
        "13 - *pdays* : number of days that passed by after the client was last contacted from a previous campaign (numeric; 999 means client was not previously contacted)\n",
        "\n",
        "14 - *previous* : number of contacts performed before this campaign and for this client (numeric)\n",
        "\n",
        "15 - *poutcome* : outcome of the previous marketing campaign (categorical)\n",
        "social and economic context attributes\n",
        "\n",
        "### <span style=\"color: green;\">**social and economic context attributes**</span> \n",
        "\n",
        "16 - emp.var.rate: employment variation rate - quarterly indicator (numeric)\n",
        "\n",
        "17 - cons.price.idx: consumer price index - monthly indicator (numeric)\n",
        "\n",
        "18 - cons.conf.idx: consumer confidence index - monthly indicator (numeric)\n",
        "\n",
        "19 - euribor3m: euribor 3 month rate - daily indicator (numeric)\n",
        "\n",
        "20 - nr.employed: number of employees - quarterly indicator (numeric)\n",
        "\n",
        "### <span style=\"color: green;\">**Output variable (desired target)**</span> \n",
        "21- *deposit* - has the client subscribed a term deposit? (categorical)"
      ]
    },
    {
      "cell_type": "markdown",
      "metadata": {
        "id": "4Y0XqIPes5Kf"
      },
      "source": [
        "**Feature engg options**\n",
        "\n",
        "stratified split based on total call duration\n",
        "\n",
        "pd.cut (last contacted day)\n",
        "\n",
        "log transform or box-cox trnsform of skewd variable\n",
        "\n",
        "if job is there or not doesn't matter\n",
        "\n",
        "converting months to jan-april, may to aug, sept to dec\n",
        "converiting day - 0-10,11-20,21-31\n",
        "\n",
        "NEW FEATURE-(balance-[(ploan+hloan+credit)-liabiity>  ] filter -potential customers\n",
        "             \n",
        "groupby people with more account balance Vs deposit   "
      ]
    },
    {
      "cell_type": "markdown",
      "metadata": {
        "id": "STlETSsLqAwk"
      },
      "source": [
        "### Loading the data"
      ]
    },
    {
      "cell_type": "code",
      "metadata": {
        "id": "OS9_4WhHGBcz"
      },
      "source": [
        "#Importing libraries\n",
        "\n",
        "import pandas as pd\n",
        "import numpy as np\n",
        "import matplotlib.pyplot as plt\n",
        "import seaborn as sns\n",
        "%matplotlib inline\n",
        "from sklearn.model_selection import train_test_split\n",
        "\n",
        "import warnings\n",
        "warnings.filterwarnings(\"ignore\")\n"
      ],
      "execution_count": null,
      "outputs": []
    },
    {
      "cell_type": "code",
      "metadata": {
        "colab": {
          "base_uri": "https://localhost:8080/",
          "height": 439
        },
        "id": "vq2NXIkgGBc0",
        "outputId": "68fae1d0-0d19-4e6f-e0ad-d4f4d9dd377e"
      },
      "source": [
        "#reading the data\n",
        "path='https://raw.githubusercontent.com/deepthikarun/banking_data/main/bank-additional-full.csv'\n",
        "ori_data = pd.read_csv(path,delimiter=';')\n",
        "ori_data"
      ],
      "execution_count": null,
      "outputs": [
        {
          "output_type": "execute_result",
          "data": {
            "text/html": [
              "<div>\n",
              "<style scoped>\n",
              "    .dataframe tbody tr th:only-of-type {\n",
              "        vertical-align: middle;\n",
              "    }\n",
              "\n",
              "    .dataframe tbody tr th {\n",
              "        vertical-align: top;\n",
              "    }\n",
              "\n",
              "    .dataframe thead th {\n",
              "        text-align: right;\n",
              "    }\n",
              "</style>\n",
              "<table border=\"1\" class=\"dataframe\">\n",
              "  <thead>\n",
              "    <tr style=\"text-align: right;\">\n",
              "      <th></th>\n",
              "      <th>age</th>\n",
              "      <th>job</th>\n",
              "      <th>marital</th>\n",
              "      <th>education</th>\n",
              "      <th>default</th>\n",
              "      <th>housing</th>\n",
              "      <th>loan</th>\n",
              "      <th>contact</th>\n",
              "      <th>month</th>\n",
              "      <th>day_of_week</th>\n",
              "      <th>duration</th>\n",
              "      <th>campaign</th>\n",
              "      <th>pdays</th>\n",
              "      <th>previous</th>\n",
              "      <th>poutcome</th>\n",
              "      <th>emp.var.rate</th>\n",
              "      <th>cons.price.idx</th>\n",
              "      <th>cons.conf.idx</th>\n",
              "      <th>euribor3m</th>\n",
              "      <th>nr.employed</th>\n",
              "      <th>y</th>\n",
              "    </tr>\n",
              "  </thead>\n",
              "  <tbody>\n",
              "    <tr>\n",
              "      <th>0</th>\n",
              "      <td>56</td>\n",
              "      <td>housemaid</td>\n",
              "      <td>married</td>\n",
              "      <td>basic.4y</td>\n",
              "      <td>no</td>\n",
              "      <td>no</td>\n",
              "      <td>no</td>\n",
              "      <td>telephone</td>\n",
              "      <td>may</td>\n",
              "      <td>mon</td>\n",
              "      <td>261</td>\n",
              "      <td>1</td>\n",
              "      <td>999</td>\n",
              "      <td>0</td>\n",
              "      <td>nonexistent</td>\n",
              "      <td>1.1</td>\n",
              "      <td>93.994</td>\n",
              "      <td>-36.4</td>\n",
              "      <td>4.857</td>\n",
              "      <td>5191.0</td>\n",
              "      <td>no</td>\n",
              "    </tr>\n",
              "    <tr>\n",
              "      <th>1</th>\n",
              "      <td>57</td>\n",
              "      <td>services</td>\n",
              "      <td>married</td>\n",
              "      <td>high.school</td>\n",
              "      <td>unknown</td>\n",
              "      <td>no</td>\n",
              "      <td>no</td>\n",
              "      <td>telephone</td>\n",
              "      <td>may</td>\n",
              "      <td>mon</td>\n",
              "      <td>149</td>\n",
              "      <td>1</td>\n",
              "      <td>999</td>\n",
              "      <td>0</td>\n",
              "      <td>nonexistent</td>\n",
              "      <td>1.1</td>\n",
              "      <td>93.994</td>\n",
              "      <td>-36.4</td>\n",
              "      <td>4.857</td>\n",
              "      <td>5191.0</td>\n",
              "      <td>no</td>\n",
              "    </tr>\n",
              "    <tr>\n",
              "      <th>2</th>\n",
              "      <td>37</td>\n",
              "      <td>services</td>\n",
              "      <td>married</td>\n",
              "      <td>high.school</td>\n",
              "      <td>no</td>\n",
              "      <td>yes</td>\n",
              "      <td>no</td>\n",
              "      <td>telephone</td>\n",
              "      <td>may</td>\n",
              "      <td>mon</td>\n",
              "      <td>226</td>\n",
              "      <td>1</td>\n",
              "      <td>999</td>\n",
              "      <td>0</td>\n",
              "      <td>nonexistent</td>\n",
              "      <td>1.1</td>\n",
              "      <td>93.994</td>\n",
              "      <td>-36.4</td>\n",
              "      <td>4.857</td>\n",
              "      <td>5191.0</td>\n",
              "      <td>no</td>\n",
              "    </tr>\n",
              "    <tr>\n",
              "      <th>3</th>\n",
              "      <td>40</td>\n",
              "      <td>admin.</td>\n",
              "      <td>married</td>\n",
              "      <td>basic.6y</td>\n",
              "      <td>no</td>\n",
              "      <td>no</td>\n",
              "      <td>no</td>\n",
              "      <td>telephone</td>\n",
              "      <td>may</td>\n",
              "      <td>mon</td>\n",
              "      <td>151</td>\n",
              "      <td>1</td>\n",
              "      <td>999</td>\n",
              "      <td>0</td>\n",
              "      <td>nonexistent</td>\n",
              "      <td>1.1</td>\n",
              "      <td>93.994</td>\n",
              "      <td>-36.4</td>\n",
              "      <td>4.857</td>\n",
              "      <td>5191.0</td>\n",
              "      <td>no</td>\n",
              "    </tr>\n",
              "    <tr>\n",
              "      <th>4</th>\n",
              "      <td>56</td>\n",
              "      <td>services</td>\n",
              "      <td>married</td>\n",
              "      <td>high.school</td>\n",
              "      <td>no</td>\n",
              "      <td>no</td>\n",
              "      <td>yes</td>\n",
              "      <td>telephone</td>\n",
              "      <td>may</td>\n",
              "      <td>mon</td>\n",
              "      <td>307</td>\n",
              "      <td>1</td>\n",
              "      <td>999</td>\n",
              "      <td>0</td>\n",
              "      <td>nonexistent</td>\n",
              "      <td>1.1</td>\n",
              "      <td>93.994</td>\n",
              "      <td>-36.4</td>\n",
              "      <td>4.857</td>\n",
              "      <td>5191.0</td>\n",
              "      <td>no</td>\n",
              "    </tr>\n",
              "    <tr>\n",
              "      <th>...</th>\n",
              "      <td>...</td>\n",
              "      <td>...</td>\n",
              "      <td>...</td>\n",
              "      <td>...</td>\n",
              "      <td>...</td>\n",
              "      <td>...</td>\n",
              "      <td>...</td>\n",
              "      <td>...</td>\n",
              "      <td>...</td>\n",
              "      <td>...</td>\n",
              "      <td>...</td>\n",
              "      <td>...</td>\n",
              "      <td>...</td>\n",
              "      <td>...</td>\n",
              "      <td>...</td>\n",
              "      <td>...</td>\n",
              "      <td>...</td>\n",
              "      <td>...</td>\n",
              "      <td>...</td>\n",
              "      <td>...</td>\n",
              "      <td>...</td>\n",
              "    </tr>\n",
              "    <tr>\n",
              "      <th>41183</th>\n",
              "      <td>73</td>\n",
              "      <td>retired</td>\n",
              "      <td>married</td>\n",
              "      <td>professional.course</td>\n",
              "      <td>no</td>\n",
              "      <td>yes</td>\n",
              "      <td>no</td>\n",
              "      <td>cellular</td>\n",
              "      <td>nov</td>\n",
              "      <td>fri</td>\n",
              "      <td>334</td>\n",
              "      <td>1</td>\n",
              "      <td>999</td>\n",
              "      <td>0</td>\n",
              "      <td>nonexistent</td>\n",
              "      <td>-1.1</td>\n",
              "      <td>94.767</td>\n",
              "      <td>-50.8</td>\n",
              "      <td>1.028</td>\n",
              "      <td>4963.6</td>\n",
              "      <td>yes</td>\n",
              "    </tr>\n",
              "    <tr>\n",
              "      <th>41184</th>\n",
              "      <td>46</td>\n",
              "      <td>blue-collar</td>\n",
              "      <td>married</td>\n",
              "      <td>professional.course</td>\n",
              "      <td>no</td>\n",
              "      <td>no</td>\n",
              "      <td>no</td>\n",
              "      <td>cellular</td>\n",
              "      <td>nov</td>\n",
              "      <td>fri</td>\n",
              "      <td>383</td>\n",
              "      <td>1</td>\n",
              "      <td>999</td>\n",
              "      <td>0</td>\n",
              "      <td>nonexistent</td>\n",
              "      <td>-1.1</td>\n",
              "      <td>94.767</td>\n",
              "      <td>-50.8</td>\n",
              "      <td>1.028</td>\n",
              "      <td>4963.6</td>\n",
              "      <td>no</td>\n",
              "    </tr>\n",
              "    <tr>\n",
              "      <th>41185</th>\n",
              "      <td>56</td>\n",
              "      <td>retired</td>\n",
              "      <td>married</td>\n",
              "      <td>university.degree</td>\n",
              "      <td>no</td>\n",
              "      <td>yes</td>\n",
              "      <td>no</td>\n",
              "      <td>cellular</td>\n",
              "      <td>nov</td>\n",
              "      <td>fri</td>\n",
              "      <td>189</td>\n",
              "      <td>2</td>\n",
              "      <td>999</td>\n",
              "      <td>0</td>\n",
              "      <td>nonexistent</td>\n",
              "      <td>-1.1</td>\n",
              "      <td>94.767</td>\n",
              "      <td>-50.8</td>\n",
              "      <td>1.028</td>\n",
              "      <td>4963.6</td>\n",
              "      <td>no</td>\n",
              "    </tr>\n",
              "    <tr>\n",
              "      <th>41186</th>\n",
              "      <td>44</td>\n",
              "      <td>technician</td>\n",
              "      <td>married</td>\n",
              "      <td>professional.course</td>\n",
              "      <td>no</td>\n",
              "      <td>no</td>\n",
              "      <td>no</td>\n",
              "      <td>cellular</td>\n",
              "      <td>nov</td>\n",
              "      <td>fri</td>\n",
              "      <td>442</td>\n",
              "      <td>1</td>\n",
              "      <td>999</td>\n",
              "      <td>0</td>\n",
              "      <td>nonexistent</td>\n",
              "      <td>-1.1</td>\n",
              "      <td>94.767</td>\n",
              "      <td>-50.8</td>\n",
              "      <td>1.028</td>\n",
              "      <td>4963.6</td>\n",
              "      <td>yes</td>\n",
              "    </tr>\n",
              "    <tr>\n",
              "      <th>41187</th>\n",
              "      <td>74</td>\n",
              "      <td>retired</td>\n",
              "      <td>married</td>\n",
              "      <td>professional.course</td>\n",
              "      <td>no</td>\n",
              "      <td>yes</td>\n",
              "      <td>no</td>\n",
              "      <td>cellular</td>\n",
              "      <td>nov</td>\n",
              "      <td>fri</td>\n",
              "      <td>239</td>\n",
              "      <td>3</td>\n",
              "      <td>999</td>\n",
              "      <td>1</td>\n",
              "      <td>failure</td>\n",
              "      <td>-1.1</td>\n",
              "      <td>94.767</td>\n",
              "      <td>-50.8</td>\n",
              "      <td>1.028</td>\n",
              "      <td>4963.6</td>\n",
              "      <td>no</td>\n",
              "    </tr>\n",
              "  </tbody>\n",
              "</table>\n",
              "<p>41188 rows × 21 columns</p>\n",
              "</div>"
            ],
            "text/plain": [
              "       age          job  marital  ... euribor3m nr.employed    y\n",
              "0       56    housemaid  married  ...     4.857      5191.0   no\n",
              "1       57     services  married  ...     4.857      5191.0   no\n",
              "2       37     services  married  ...     4.857      5191.0   no\n",
              "3       40       admin.  married  ...     4.857      5191.0   no\n",
              "4       56     services  married  ...     4.857      5191.0   no\n",
              "...    ...          ...      ...  ...       ...         ...  ...\n",
              "41183   73      retired  married  ...     1.028      4963.6  yes\n",
              "41184   46  blue-collar  married  ...     1.028      4963.6   no\n",
              "41185   56      retired  married  ...     1.028      4963.6   no\n",
              "41186   44   technician  married  ...     1.028      4963.6  yes\n",
              "41187   74      retired  married  ...     1.028      4963.6   no\n",
              "\n",
              "[41188 rows x 21 columns]"
            ]
          },
          "metadata": {
            "tags": []
          },
          "execution_count": 6
        }
      ]
    },
    {
      "cell_type": "markdown",
      "metadata": {
        "id": "Vc0g4Ws2tBSO"
      },
      "source": [
        "### Understanding the data"
      ]
    },
    {
      "cell_type": "code",
      "metadata": {
        "id": "OEM92nF-0gFG"
      },
      "source": [
        "#dropping unwanted columns\n",
        "ori_data.drop(['emp.var.rate','cons.price.idx','cons.conf.idx','euribor3m','nr.employed','contact','poutcome'],axis=1,inplace=True)"
      ],
      "execution_count": null,
      "outputs": []
    },
    {
      "cell_type": "code",
      "metadata": {
        "colab": {
          "base_uri": "https://localhost:8080/"
        },
        "id": "ZAQOLFplGBc0",
        "outputId": "82f75a15-9b8e-4997-ef7c-9c6a8bae785b"
      },
      "source": [
        "#get the number of null values and data types of columns\n",
        "ori_data.info()"
      ],
      "execution_count": null,
      "outputs": [
        {
          "output_type": "stream",
          "text": [
            "<class 'pandas.core.frame.DataFrame'>\n",
            "RangeIndex: 41188 entries, 0 to 41187\n",
            "Data columns (total 14 columns):\n",
            " #   Column       Non-Null Count  Dtype \n",
            "---  ------       --------------  ----- \n",
            " 0   age          41188 non-null  int64 \n",
            " 1   job          41188 non-null  object\n",
            " 2   marital      41188 non-null  object\n",
            " 3   education    41188 non-null  object\n",
            " 4   default      41188 non-null  object\n",
            " 5   housing      41188 non-null  object\n",
            " 6   loan         41188 non-null  object\n",
            " 7   month        41188 non-null  object\n",
            " 8   day_of_week  41188 non-null  object\n",
            " 9   duration     41188 non-null  int64 \n",
            " 10  campaign     41188 non-null  int64 \n",
            " 11  pdays        41188 non-null  int64 \n",
            " 12  previous     41188 non-null  int64 \n",
            " 13  y            41188 non-null  object\n",
            "dtypes: int64(5), object(9)\n",
            "memory usage: 4.4+ MB\n"
          ],
          "name": "stdout"
        }
      ]
    },
    {
      "cell_type": "code",
      "metadata": {
        "colab": {
          "base_uri": "https://localhost:8080/",
          "height": 297
        },
        "id": "fNrISSc3Tyjc",
        "outputId": "bc487141-3b00-4b34-b9eb-f99ca6fa507c"
      },
      "source": [
        "#statistical analysis of numerical variables\n",
        "ori_data.describe()"
      ],
      "execution_count": null,
      "outputs": [
        {
          "output_type": "execute_result",
          "data": {
            "text/html": [
              "<div>\n",
              "<style scoped>\n",
              "    .dataframe tbody tr th:only-of-type {\n",
              "        vertical-align: middle;\n",
              "    }\n",
              "\n",
              "    .dataframe tbody tr th {\n",
              "        vertical-align: top;\n",
              "    }\n",
              "\n",
              "    .dataframe thead th {\n",
              "        text-align: right;\n",
              "    }\n",
              "</style>\n",
              "<table border=\"1\" class=\"dataframe\">\n",
              "  <thead>\n",
              "    <tr style=\"text-align: right;\">\n",
              "      <th></th>\n",
              "      <th>age</th>\n",
              "      <th>duration</th>\n",
              "      <th>campaign</th>\n",
              "      <th>pdays</th>\n",
              "      <th>previous</th>\n",
              "    </tr>\n",
              "  </thead>\n",
              "  <tbody>\n",
              "    <tr>\n",
              "      <th>count</th>\n",
              "      <td>41188.00000</td>\n",
              "      <td>41188.000000</td>\n",
              "      <td>41188.000000</td>\n",
              "      <td>41188.000000</td>\n",
              "      <td>41188.000000</td>\n",
              "    </tr>\n",
              "    <tr>\n",
              "      <th>mean</th>\n",
              "      <td>40.02406</td>\n",
              "      <td>258.285010</td>\n",
              "      <td>2.567593</td>\n",
              "      <td>962.475454</td>\n",
              "      <td>0.172963</td>\n",
              "    </tr>\n",
              "    <tr>\n",
              "      <th>std</th>\n",
              "      <td>10.42125</td>\n",
              "      <td>259.279249</td>\n",
              "      <td>2.770014</td>\n",
              "      <td>186.910907</td>\n",
              "      <td>0.494901</td>\n",
              "    </tr>\n",
              "    <tr>\n",
              "      <th>min</th>\n",
              "      <td>17.00000</td>\n",
              "      <td>0.000000</td>\n",
              "      <td>1.000000</td>\n",
              "      <td>0.000000</td>\n",
              "      <td>0.000000</td>\n",
              "    </tr>\n",
              "    <tr>\n",
              "      <th>25%</th>\n",
              "      <td>32.00000</td>\n",
              "      <td>102.000000</td>\n",
              "      <td>1.000000</td>\n",
              "      <td>999.000000</td>\n",
              "      <td>0.000000</td>\n",
              "    </tr>\n",
              "    <tr>\n",
              "      <th>50%</th>\n",
              "      <td>38.00000</td>\n",
              "      <td>180.000000</td>\n",
              "      <td>2.000000</td>\n",
              "      <td>999.000000</td>\n",
              "      <td>0.000000</td>\n",
              "    </tr>\n",
              "    <tr>\n",
              "      <th>75%</th>\n",
              "      <td>47.00000</td>\n",
              "      <td>319.000000</td>\n",
              "      <td>3.000000</td>\n",
              "      <td>999.000000</td>\n",
              "      <td>0.000000</td>\n",
              "    </tr>\n",
              "    <tr>\n",
              "      <th>max</th>\n",
              "      <td>98.00000</td>\n",
              "      <td>4918.000000</td>\n",
              "      <td>56.000000</td>\n",
              "      <td>999.000000</td>\n",
              "      <td>7.000000</td>\n",
              "    </tr>\n",
              "  </tbody>\n",
              "</table>\n",
              "</div>"
            ],
            "text/plain": [
              "               age      duration      campaign         pdays      previous\n",
              "count  41188.00000  41188.000000  41188.000000  41188.000000  41188.000000\n",
              "mean      40.02406    258.285010      2.567593    962.475454      0.172963\n",
              "std       10.42125    259.279249      2.770014    186.910907      0.494901\n",
              "min       17.00000      0.000000      1.000000      0.000000      0.000000\n",
              "25%       32.00000    102.000000      1.000000    999.000000      0.000000\n",
              "50%       38.00000    180.000000      2.000000    999.000000      0.000000\n",
              "75%       47.00000    319.000000      3.000000    999.000000      0.000000\n",
              "max       98.00000   4918.000000     56.000000    999.000000      7.000000"
            ]
          },
          "metadata": {
            "tags": []
          },
          "execution_count": 9
        }
      ]
    },
    {
      "cell_type": "markdown",
      "metadata": {
        "id": "HQl3oLJUPwwr"
      },
      "source": [
        "### Data Cleaning"
      ]
    },
    {
      "cell_type": "code",
      "metadata": {
        "colab": {
          "base_uri": "https://localhost:8080/"
        },
        "id": "I0TKXMRgS9n4",
        "outputId": "9a91f4cd-6b9c-4d85-e46b-44d9b0cd47e2"
      },
      "source": [
        "data=ori_data.copy()\n",
        "data.columns"
      ],
      "execution_count": null,
      "outputs": [
        {
          "output_type": "execute_result",
          "data": {
            "text/plain": [
              "Index(['age', 'job', 'marital', 'education', 'default', 'housing', 'loan',\n",
              "       'month', 'day_of_week', 'duration', 'campaign', 'pdays', 'previous',\n",
              "       'y'],\n",
              "      dtype='object')"
            ]
          },
          "metadata": {
            "tags": []
          },
          "execution_count": 10
        }
      ]
    },
    {
      "cell_type": "code",
      "metadata": {
        "id": "ab-bFDwaQZGD"
      },
      "source": [
        "#renaming columns\n",
        "data.rename(columns = {'default':'credit_default','housing':'housing_loan', 'loan':'personal_loan', \n",
        "                               'day':'last_contacted_day', 'month':'last_contacted_month', 'duration':'last_call_duration' ,\n",
        "                              'campaign':'contacts_during_camapign' ,'pdays':'days_passed' ,'previous':'contacts_before_campaign' ,          \n",
        "                              'y': 'deposit'}, inplace = True)\n"
      ],
      "execution_count": null,
      "outputs": []
    },
    {
      "cell_type": "code",
      "metadata": {
        "id": "X6Nw0DXMh6KP"
      },
      "source": [
        "# # replacing -1 by 0 in days_passed col\n",
        "# data[\"days_passed\"]=data[\"days_passed\"].replace(999,0)\n",
        "\n",
        "# # replacing unknown in 'mode_of_contact' to other\n",
        "# data[\"mode_of_contact\"]=data[\"mode_of_contact\"].replace('unknown','other')\n",
        "\n",
        "# # replacing other in 'previous_campaign_outcome' to unknown\n",
        "# data[\"previous_campaign_outcome\"]=data[\"previous_campaign_outcome\"].replace('other','unknown')"
      ],
      "execution_count": null,
      "outputs": []
    },
    {
      "cell_type": "code",
      "metadata": {
        "id": "819xo7Kp0gFH"
      },
      "source": [
        "#creating categories out of days_passed column\n",
        "def toCategorical_days_passed(x):\n",
        "    if x<50:\n",
        "        return 'recent'\n",
        "    else:\n",
        "        return 'never_contacted'\n",
        "\n",
        "data['days_passed']=data.days_passed.apply(toCategorical_days_passed)"
      ],
      "execution_count": null,
      "outputs": []
    },
    {
      "cell_type": "code",
      "metadata": {
        "id": "t8x897V80gFH"
      },
      "source": [
        "#converting employment col to categorical\n",
        "def empCategories(x):\n",
        "    if x in ['services','admin.','blue-collar','technician','management','housemaid']:\n",
        "        return 'salaried'\n",
        "    elif x in ['self-employed' ,'entrepreneur']:\n",
        "        return 'self-employed'\n",
        "    else: return x\n",
        "    \n",
        "data['job']=data.job.apply(empCategories)"
      ],
      "execution_count": null,
      "outputs": []
    },
    {
      "cell_type": "code",
      "metadata": {
        "id": "lpIv__mn0gFH"
      },
      "source": [
        "#converting education col to categories\n",
        "def education(x):\n",
        "    if x in ['basic.4y','basic.6y']:\n",
        "        return 'primary'\n",
        "    elif x in ['high.school','basic.9y']:\n",
        "        return 'secondary'\n",
        "    elif x in ['professional.course','university.degree']:\n",
        "        return 'tertiary'\n",
        "    else: return x\n",
        "    \n",
        "data['education']=data.education.apply(education)"
      ],
      "execution_count": null,
      "outputs": []
    },
    {
      "cell_type": "code",
      "metadata": {
        "id": "p-03OaNJ0gFH"
      },
      "source": [
        "#converting contacted_month to categories\n",
        "def contacted_month(x):\n",
        "    if x in ['jan','feb','mar','apr']:\n",
        "        return 'jan-april'\n",
        "    elif x in ['may','jun','jul','aug']:\n",
        "        return 'may-aug'\n",
        "    elif x in ['sep','oct','nov','dec']:\n",
        "        return 'sep-dec'\n",
        "\n",
        "data['last_contacted_month']=data.last_contacted_month.apply(contacted_month)"
      ],
      "execution_count": null,
      "outputs": []
    },
    {
      "cell_type": "code",
      "metadata": {
        "id": "_nkGRBau0gFI"
      },
      "source": [
        "#converting contacts_before_campaign to categories\n",
        "def toCategorical_contacts_before_campaign(x):\n",
        "    if (x>0 and x<10):\n",
        "        return '<10'\n",
        "    else:\n",
        "        return '0'\n",
        "\n",
        "data['contacts_before_campaign']=data.contacts_before_campaign.apply(toCategorical_contacts_before_campaign)"
      ],
      "execution_count": null,
      "outputs": []
    },
    {
      "cell_type": "code",
      "metadata": {
        "colab": {
          "base_uri": "https://localhost:8080/",
          "height": 224
        },
        "id": "YNTiHHDjMVkZ",
        "outputId": "e5f7afe5-4bd2-4968-bc72-3bea448e9313"
      },
      "source": [
        "data.head()"
      ],
      "execution_count": null,
      "outputs": [
        {
          "output_type": "execute_result",
          "data": {
            "text/html": [
              "<div>\n",
              "<style scoped>\n",
              "    .dataframe tbody tr th:only-of-type {\n",
              "        vertical-align: middle;\n",
              "    }\n",
              "\n",
              "    .dataframe tbody tr th {\n",
              "        vertical-align: top;\n",
              "    }\n",
              "\n",
              "    .dataframe thead th {\n",
              "        text-align: right;\n",
              "    }\n",
              "</style>\n",
              "<table border=\"1\" class=\"dataframe\">\n",
              "  <thead>\n",
              "    <tr style=\"text-align: right;\">\n",
              "      <th></th>\n",
              "      <th>age</th>\n",
              "      <th>job</th>\n",
              "      <th>marital</th>\n",
              "      <th>education</th>\n",
              "      <th>credit_default</th>\n",
              "      <th>housing_loan</th>\n",
              "      <th>personal_loan</th>\n",
              "      <th>last_contacted_month</th>\n",
              "      <th>day_of_week</th>\n",
              "      <th>last_call_duration</th>\n",
              "      <th>contacts_during_camapign</th>\n",
              "      <th>days_passed</th>\n",
              "      <th>contacts_before_campaign</th>\n",
              "      <th>deposit</th>\n",
              "    </tr>\n",
              "  </thead>\n",
              "  <tbody>\n",
              "    <tr>\n",
              "      <th>0</th>\n",
              "      <td>56</td>\n",
              "      <td>salaried</td>\n",
              "      <td>married</td>\n",
              "      <td>primary</td>\n",
              "      <td>no</td>\n",
              "      <td>no</td>\n",
              "      <td>no</td>\n",
              "      <td>may-aug</td>\n",
              "      <td>mon</td>\n",
              "      <td>261</td>\n",
              "      <td>1</td>\n",
              "      <td>never_contacted</td>\n",
              "      <td>0</td>\n",
              "      <td>no</td>\n",
              "    </tr>\n",
              "    <tr>\n",
              "      <th>1</th>\n",
              "      <td>57</td>\n",
              "      <td>salaried</td>\n",
              "      <td>married</td>\n",
              "      <td>secondary</td>\n",
              "      <td>unknown</td>\n",
              "      <td>no</td>\n",
              "      <td>no</td>\n",
              "      <td>may-aug</td>\n",
              "      <td>mon</td>\n",
              "      <td>149</td>\n",
              "      <td>1</td>\n",
              "      <td>never_contacted</td>\n",
              "      <td>0</td>\n",
              "      <td>no</td>\n",
              "    </tr>\n",
              "    <tr>\n",
              "      <th>2</th>\n",
              "      <td>37</td>\n",
              "      <td>salaried</td>\n",
              "      <td>married</td>\n",
              "      <td>secondary</td>\n",
              "      <td>no</td>\n",
              "      <td>yes</td>\n",
              "      <td>no</td>\n",
              "      <td>may-aug</td>\n",
              "      <td>mon</td>\n",
              "      <td>226</td>\n",
              "      <td>1</td>\n",
              "      <td>never_contacted</td>\n",
              "      <td>0</td>\n",
              "      <td>no</td>\n",
              "    </tr>\n",
              "    <tr>\n",
              "      <th>3</th>\n",
              "      <td>40</td>\n",
              "      <td>salaried</td>\n",
              "      <td>married</td>\n",
              "      <td>primary</td>\n",
              "      <td>no</td>\n",
              "      <td>no</td>\n",
              "      <td>no</td>\n",
              "      <td>may-aug</td>\n",
              "      <td>mon</td>\n",
              "      <td>151</td>\n",
              "      <td>1</td>\n",
              "      <td>never_contacted</td>\n",
              "      <td>0</td>\n",
              "      <td>no</td>\n",
              "    </tr>\n",
              "    <tr>\n",
              "      <th>4</th>\n",
              "      <td>56</td>\n",
              "      <td>salaried</td>\n",
              "      <td>married</td>\n",
              "      <td>secondary</td>\n",
              "      <td>no</td>\n",
              "      <td>no</td>\n",
              "      <td>yes</td>\n",
              "      <td>may-aug</td>\n",
              "      <td>mon</td>\n",
              "      <td>307</td>\n",
              "      <td>1</td>\n",
              "      <td>never_contacted</td>\n",
              "      <td>0</td>\n",
              "      <td>no</td>\n",
              "    </tr>\n",
              "  </tbody>\n",
              "</table>\n",
              "</div>"
            ],
            "text/plain": [
              "   age       job  marital  ...      days_passed contacts_before_campaign deposit\n",
              "0   56  salaried  married  ...  never_contacted                        0      no\n",
              "1   57  salaried  married  ...  never_contacted                        0      no\n",
              "2   37  salaried  married  ...  never_contacted                        0      no\n",
              "3   40  salaried  married  ...  never_contacted                        0      no\n",
              "4   56  salaried  married  ...  never_contacted                        0      no\n",
              "\n",
              "[5 rows x 14 columns]"
            ]
          },
          "metadata": {
            "tags": []
          },
          "execution_count": 18
        }
      ]
    },
    {
      "cell_type": "code",
      "metadata": {
        "colab": {
          "base_uri": "https://localhost:8080/"
        },
        "id": "V9NdcmwDP9OY",
        "outputId": "2cc38889-72b2-4d00-d9e1-7c2c45748320"
      },
      "source": [
        "data.info()"
      ],
      "execution_count": null,
      "outputs": [
        {
          "output_type": "stream",
          "text": [
            "<class 'pandas.core.frame.DataFrame'>\n",
            "RangeIndex: 41188 entries, 0 to 41187\n",
            "Data columns (total 14 columns):\n",
            " #   Column                    Non-Null Count  Dtype \n",
            "---  ------                    --------------  ----- \n",
            " 0   age                       41188 non-null  int64 \n",
            " 1   job                       41188 non-null  object\n",
            " 2   marital                   41188 non-null  object\n",
            " 3   education                 41188 non-null  object\n",
            " 4   credit_default            41188 non-null  object\n",
            " 5   housing_loan              41188 non-null  object\n",
            " 6   personal_loan             41188 non-null  object\n",
            " 7   last_contacted_month      41188 non-null  object\n",
            " 8   day_of_week               41188 non-null  object\n",
            " 9   last_call_duration        41188 non-null  int64 \n",
            " 10  contacts_during_camapign  41188 non-null  int64 \n",
            " 11  days_passed               41188 non-null  object\n",
            " 12  contacts_before_campaign  41188 non-null  object\n",
            " 13  deposit                   41188 non-null  object\n",
            "dtypes: int64(3), object(11)\n",
            "memory usage: 4.4+ MB\n"
          ],
          "name": "stdout"
        }
      ]
    },
    {
      "cell_type": "code",
      "metadata": {
        "colab": {
          "base_uri": "https://localhost:8080/",
          "height": 224
        },
        "id": "_RP8g_cy1o0a",
        "outputId": "02b761d2-0fa0-4559-c156-eabac2cb05c2"
      },
      "source": [
        "# Changing the unit of 'last_call_duration' from seconds to minutes\n",
        "data['last_call_duration'] = data['last_call_duration'].apply(lambda n:n/60).round(2)\n",
        "data.head()"
      ],
      "execution_count": null,
      "outputs": [
        {
          "output_type": "execute_result",
          "data": {
            "text/html": [
              "<div>\n",
              "<style scoped>\n",
              "    .dataframe tbody tr th:only-of-type {\n",
              "        vertical-align: middle;\n",
              "    }\n",
              "\n",
              "    .dataframe tbody tr th {\n",
              "        vertical-align: top;\n",
              "    }\n",
              "\n",
              "    .dataframe thead th {\n",
              "        text-align: right;\n",
              "    }\n",
              "</style>\n",
              "<table border=\"1\" class=\"dataframe\">\n",
              "  <thead>\n",
              "    <tr style=\"text-align: right;\">\n",
              "      <th></th>\n",
              "      <th>age</th>\n",
              "      <th>job</th>\n",
              "      <th>marital</th>\n",
              "      <th>education</th>\n",
              "      <th>credit_default</th>\n",
              "      <th>housing_loan</th>\n",
              "      <th>personal_loan</th>\n",
              "      <th>last_contacted_month</th>\n",
              "      <th>day_of_week</th>\n",
              "      <th>last_call_duration</th>\n",
              "      <th>contacts_during_camapign</th>\n",
              "      <th>days_passed</th>\n",
              "      <th>contacts_before_campaign</th>\n",
              "      <th>deposit</th>\n",
              "    </tr>\n",
              "  </thead>\n",
              "  <tbody>\n",
              "    <tr>\n",
              "      <th>0</th>\n",
              "      <td>56</td>\n",
              "      <td>salaried</td>\n",
              "      <td>married</td>\n",
              "      <td>primary</td>\n",
              "      <td>no</td>\n",
              "      <td>no</td>\n",
              "      <td>no</td>\n",
              "      <td>may-aug</td>\n",
              "      <td>mon</td>\n",
              "      <td>4.35</td>\n",
              "      <td>1</td>\n",
              "      <td>never_contacted</td>\n",
              "      <td>0</td>\n",
              "      <td>no</td>\n",
              "    </tr>\n",
              "    <tr>\n",
              "      <th>1</th>\n",
              "      <td>57</td>\n",
              "      <td>salaried</td>\n",
              "      <td>married</td>\n",
              "      <td>secondary</td>\n",
              "      <td>unknown</td>\n",
              "      <td>no</td>\n",
              "      <td>no</td>\n",
              "      <td>may-aug</td>\n",
              "      <td>mon</td>\n",
              "      <td>2.48</td>\n",
              "      <td>1</td>\n",
              "      <td>never_contacted</td>\n",
              "      <td>0</td>\n",
              "      <td>no</td>\n",
              "    </tr>\n",
              "    <tr>\n",
              "      <th>2</th>\n",
              "      <td>37</td>\n",
              "      <td>salaried</td>\n",
              "      <td>married</td>\n",
              "      <td>secondary</td>\n",
              "      <td>no</td>\n",
              "      <td>yes</td>\n",
              "      <td>no</td>\n",
              "      <td>may-aug</td>\n",
              "      <td>mon</td>\n",
              "      <td>3.77</td>\n",
              "      <td>1</td>\n",
              "      <td>never_contacted</td>\n",
              "      <td>0</td>\n",
              "      <td>no</td>\n",
              "    </tr>\n",
              "    <tr>\n",
              "      <th>3</th>\n",
              "      <td>40</td>\n",
              "      <td>salaried</td>\n",
              "      <td>married</td>\n",
              "      <td>primary</td>\n",
              "      <td>no</td>\n",
              "      <td>no</td>\n",
              "      <td>no</td>\n",
              "      <td>may-aug</td>\n",
              "      <td>mon</td>\n",
              "      <td>2.52</td>\n",
              "      <td>1</td>\n",
              "      <td>never_contacted</td>\n",
              "      <td>0</td>\n",
              "      <td>no</td>\n",
              "    </tr>\n",
              "    <tr>\n",
              "      <th>4</th>\n",
              "      <td>56</td>\n",
              "      <td>salaried</td>\n",
              "      <td>married</td>\n",
              "      <td>secondary</td>\n",
              "      <td>no</td>\n",
              "      <td>no</td>\n",
              "      <td>yes</td>\n",
              "      <td>may-aug</td>\n",
              "      <td>mon</td>\n",
              "      <td>5.12</td>\n",
              "      <td>1</td>\n",
              "      <td>never_contacted</td>\n",
              "      <td>0</td>\n",
              "      <td>no</td>\n",
              "    </tr>\n",
              "  </tbody>\n",
              "</table>\n",
              "</div>"
            ],
            "text/plain": [
              "   age       job  marital  ...      days_passed contacts_before_campaign deposit\n",
              "0   56  salaried  married  ...  never_contacted                        0      no\n",
              "1   57  salaried  married  ...  never_contacted                        0      no\n",
              "2   37  salaried  married  ...  never_contacted                        0      no\n",
              "3   40  salaried  married  ...  never_contacted                        0      no\n",
              "4   56  salaried  married  ...  never_contacted                        0      no\n",
              "\n",
              "[5 rows x 14 columns]"
            ]
          },
          "metadata": {
            "tags": []
          },
          "execution_count": 20
        }
      ]
    },
    {
      "cell_type": "markdown",
      "metadata": {
        "id": "PdPmlmQGtbfh"
      },
      "source": [
        "## Exploratory data analysis"
      ]
    },
    {
      "cell_type": "markdown",
      "metadata": {
        "id": "mSRigdTcWhNX"
      },
      "source": [
        " **Looking at the  Target variable**"
      ]
    },
    {
      "cell_type": "code",
      "metadata": {
        "colab": {
          "base_uri": "https://localhost:8080/"
        },
        "id": "9FMOiyb8tU7-",
        "outputId": "1b7ef5c7-1337-4e43-a69d-5f93c3e2740e"
      },
      "source": [
        "#relative frequency of each class\n",
        "data.deposit.value_counts(normalize=True)"
      ],
      "execution_count": null,
      "outputs": [
        {
          "output_type": "execute_result",
          "data": {
            "text/plain": [
              "no     0.887346\n",
              "yes    0.112654\n",
              "Name: deposit, dtype: float64"
            ]
          },
          "metadata": {
            "tags": []
          },
          "execution_count": 21
        }
      ]
    },
    {
      "cell_type": "code",
      "metadata": {
        "colab": {
          "base_uri": "https://localhost:8080/",
          "height": 390
        },
        "id": "tfNTA4M_GBc2",
        "outputId": "6e838087-f7f4-4d04-c2a4-d56efa73b762"
      },
      "source": [
        "#plotting the target variable\n",
        "plt.figure(figsize=(8,6))\n",
        "ax=data['deposit'].value_counts(normalize=True).plot.bar()\n",
        "ax.set_xticklabels(ax.get_xticklabels(), rotation=0, ha=\"right\")\n",
        "\n",
        "plt.title(\"Deposit Value Counts\")\n",
        "plt.show()"
      ],
      "execution_count": null,
      "outputs": [
        {
          "output_type": "display_data",
          "data": {
            "image/png": "[encoded data removed]",
            "text/plain": [
              "<Figure size 576x432 with 1 Axes>"
            ]
          },
          "metadata": {
            "tags": [],
            "needs_background": "light"
          }
        }
      ]
    },
    {
      "cell_type": "markdown",
      "metadata": {
        "id": "O3x7rEfUtp_x"
      },
      "source": [
        " From the above graph there is much difference between the classes. It is clearly an unbalanced dataset"
      ]
    },
    {
      "cell_type": "markdown",
      "metadata": {
        "id": "TTvh8aPOyW14"
      },
      "source": [
        "## Univariate analysis\n",
        "\n",
        "### Categorical Variables"
      ]
    },
    {
      "cell_type": "code",
      "metadata": {
        "colab": {
          "base_uri": "https://localhost:8080/"
        },
        "id": "uyGTJ80upSfH",
        "outputId": "4180c850-a566-43bd-a137-46c9724103a3"
      },
      "source": [
        "def uniques_col(col):\n",
        "    for i in col:\n",
        "      print(i,':', data[i].unique())\n",
        "\n",
        "cat_cols=data.columns[np.where(data.dtypes=='object')]\n",
        "uniques_col(cat_cols)"
      ],
      "execution_count": null,
      "outputs": [
        {
          "output_type": "stream",
          "text": [
            "job : ['salaried' 'retired' 'unemployed' 'self-employed' 'unknown' 'student']\n",
            "marital : ['married' 'single' 'divorced' 'unknown']\n",
            "education : ['primary' 'secondary' 'tertiary' 'unknown' 'illiterate']\n",
            "credit_default : ['no' 'unknown' 'yes']\n",
            "housing_loan : ['no' 'yes' 'unknown']\n",
            "personal_loan : ['no' 'yes' 'unknown']\n",
            "last_contacted_month : ['may-aug' 'sep-dec' 'jan-april']\n",
            "day_of_week : ['mon' 'tue' 'wed' 'thu' 'fri']\n",
            "days_passed : ['never_contacted' 'recent']\n",
            "contacts_before_campaign : ['0' '<10']\n",
            "deposit : ['no' 'yes']\n"
          ],
          "name": "stdout"
        }
      ]
    },
    {
      "cell_type": "code",
      "metadata": {
        "colab": {
          "base_uri": "https://localhost:8080/",
          "height": 1000
        },
        "id": "jTKrJldEQV8g",
        "outputId": "88df2d60-e722-49b8-e66e-99f027ca592e"
      },
      "source": [
        "#plot the categorical variables\n",
        "plt.figure(figsize=(20,18), facecolor='white')\n",
        "plotnumber = 1\n",
        "\n",
        "for column in cat_cols:\n",
        "    if plotnumber<=10 :\n",
        "        ax = plt.subplot(6,2,plotnumber)\n",
        "        data[column].value_counts(normalize=True).plot.bar(title=column,rot=1,color='tab:cyan')\n",
        "        ax.set_xticklabels(ax.get_xticklabels(), rotation=40, ha=\"right\",fontsize=15)\n",
        "    plotnumber+=1\n",
        "plt.tight_layout()"
      ],
      "execution_count": null,
      "outputs": [
        {
          "output_type": "display_data",
          "data": {
            "image/png": "[encoded data removed]",
            "text/plain": [
              "<Figure size 1440x1296 with 10 Axes>"
            ]
          },
          "metadata": {
            "tags": []
          }
        }
      ]
    },
    {
      "cell_type": "markdown",
      "metadata": {
        "id": "_L83C8gDSPYm"
      },
      "source": [
        "## Inference\n",
        "\n",
        "<!-- * Compared to previous campaign, recent campaign has a better success rate - there is an increase of around 40% in deposits -->\n",
        "* Most calls where made in the month of May\n",
        "* Around 50% of the customers have housing loan whereas only around 15% of them have personal loan\n",
        "* Bank has contacted most of the customers between May and August\n",
        "  \n",
        "\n",
        "\n",
        "\n"
      ]
    },
    {
      "cell_type": "markdown",
      "metadata": {
        "id": "UdD57ruJVBBY"
      },
      "source": [
        "## Numerical variables"
      ]
    },
    {
      "cell_type": "code",
      "metadata": {
        "colab": {
          "base_uri": "https://localhost:8080/"
        },
        "id": "Zyv3dNe7x3DU",
        "outputId": "5178573a-55b3-44c8-9516-ea18d7039eb3"
      },
      "source": [
        "num_cols=data.columns[np.where((data.dtypes=='int') | (data.dtypes=='float' ))]\n",
        "num_cols"
      ],
      "execution_count": null,
      "outputs": [
        {
          "output_type": "execute_result",
          "data": {
            "text/plain": [
              "Index(['age', 'last_call_duration', 'contacts_during_camapign'], dtype='object')"
            ]
          },
          "metadata": {
            "tags": []
          },
          "execution_count": 25
        }
      ]
    },
    {
      "cell_type": "code",
      "metadata": {
        "colab": {
          "base_uri": "https://localhost:8080/",
          "height": 387
        },
        "id": "P1AJjpGXFlCi",
        "outputId": "b2b43eff-c7fc-4c3c-d2a9-1939c622f813"
      },
      "source": [
        "# let's see how data is distributed for every column\n",
        "plt.figure(figsize=(15,15), facecolor='white')\n",
        "plotnumber = 1\n",
        "\n",
        "for column in num_cols:\n",
        "    if plotnumber<=10 :\n",
        "        ax = plt.subplot(3,3,plotnumber)  \n",
        "        sns.distplot(data[column],kde=True,color=\"Red\")\n",
        "        #plt.xlabel(column,fontsize=12)\n",
        "        #plt.ylabel(\"\")\n",
        "    plotnumber+=1\n",
        "plt.tight_layout()\n",
        "plt.show()\n",
        "\n",
        "\n"
      ],
      "execution_count": null,
      "outputs": [
        {
          "output_type": "display_data",
          "data": {
            "image/png": "[encoded data removed]",
            "text/plain": [
              "<Figure size 1080x1080 with 3 Axes>"
            ]
          },
          "metadata": {
            "tags": []
          }
        }
      ]
    },
    {
      "cell_type": "code",
      "metadata": {
        "colab": {
          "base_uri": "https://localhost:8080/"
        },
        "id": "cofmQt170Y8r",
        "outputId": "13e4069f-3ba3-4c79-8776-5d9b64b724bd"
      },
      "source": [
        "#checking the skewness, if >0 -right skewed,=0 - normally distirbuted,<0 - left skewed\n",
        "data.skew()"
      ],
      "execution_count": null,
      "outputs": [
        {
          "output_type": "execute_result",
          "data": {
            "text/plain": [
              "age                         0.784697\n",
              "last_call_duration          3.263156\n",
              "contacts_during_camapign    4.762507\n",
              "dtype: float64"
            ]
          },
          "metadata": {
            "tags": []
          },
          "execution_count": 27
        }
      ]
    },
    {
      "cell_type": "markdown",
      "metadata": {
        "id": "SOmqoQkNjqN6"
      },
      "source": [
        "## Inference\n",
        "\n",
        "* Few columns have positive skewness which will be taken care of in the feature engg part\n",
        "* Bank has not contacted the customers throughout, before and during  the campaign\n",
        "* The Age of customers range from  18 to 95 years old.But majority of customers contacted are  30s and 50s years old (fall within the 25th to 75th percentiles).The distribution of customer age is fairly normal with a small standard deviation\n"
      ]
    },
    {
      "cell_type": "code",
      "metadata": {
        "colab": {
          "base_uri": "https://localhost:8080/",
          "height": 292
        },
        "id": "pyiX_s3KjoDT",
        "outputId": "8fe63a35-b4cb-42de-eac4-2f1b725bd0d9"
      },
      "source": [
        "##plt.figure(figsize=(1,16), facecolor='white')\n",
        "plotnumber = 1\n",
        "\n",
        "plt.figure(figsize=(20,16), facecolor='white')\n",
        "for column in num_cols:\n",
        "    if plotnumber<=10 :\n",
        "        ax = plt.subplot(4,4,plotnumber)\n",
        "        data[column].plot.box(figsize=(15,15))\n",
        "#         plt.xlabel(column,fontsize=12)\n",
        "    plotnumber+=1\n",
        "plt.tight_layout()\n",
        "plt.show()"
      ],
      "execution_count": null,
      "outputs": [
        {
          "output_type": "display_data",
          "data": {
            "image/png": "[encoded data removed]",
            "text/plain": [
              "<Figure size 1080x1080 with 3 Axes>"
            ]
          },
          "metadata": {
            "tags": []
          }
        }
      ]
    },
    {
      "cell_type": "markdown",
      "metadata": {
        "id": "2w6n9HO8Xc7T"
      },
      "source": [
        "## Treating Outliers"
      ]
    },
    {
      "cell_type": "code",
      "metadata": {
        "id": "9ErpqJWnSRaB"
      },
      "source": [
        "# q = data['age'].quantile(0.97)\n",
        "# # we are removing the top 3% data from the age column\n",
        "# data_cleaned  = data[data['age']<q]\n",
        "\n",
        "\n",
        "# q = data_cleaned['last_call_duration'].quantile(0.95)\n",
        "# # we are removing the top 5% data from the last_call_durationn column\n",
        "# data_cleaned  = data_cleaned[data_cleaned['last_call_duration']<q]\n",
        "\n",
        "# q = data_cleaned['contacts_during_camapign'].quantile(0.95)\n",
        "# # we are removing the top 5% data from the contacts_during_campaign column\n",
        "# data_cleaned  = data_cleaned[data_cleaned['contacts_during_camapign']<q]\n",
        "\n"
      ],
      "execution_count": null,
      "outputs": []
    },
    {
      "cell_type": "code",
      "metadata": {
        "colab": {
          "base_uri": "https://localhost:8080/"
        },
        "id": "rtlMamjfiMUL",
        "outputId": "6d1db14c-6bb2-413c-9545-baf81fbb894b"
      },
      "source": [
        "# checking for outliers\n",
        "data_cleaned.skew()"
      ],
      "execution_count": null,
      "outputs": [
        {
          "output_type": "execute_result",
          "data": {
            "text/plain": [
              "age                         0.335772\n",
              "last_call_duration          1.218304\n",
              "contacts_during_camapign    1.306626\n",
              "dtype: float64"
            ]
          },
          "metadata": {
            "tags": []
          },
          "execution_count": 31
        }
      ]
    },
    {
      "cell_type": "code",
      "metadata": {
        "colab": {
          "base_uri": "https://localhost:8080/",
          "height": 295
        },
        "id": "nW_gxkEa1y6E",
        "outputId": "bdf43f6d-0f64-4965-d3ac-08f4032e1c42"
      },
      "source": [
        "##plt.figure(figsize=(1,16), facecolor='white')\n",
        "plotnumber = 1\n",
        "\n",
        "plt.figure(figsize=(20,16), facecolor='white')\n",
        "for column in num_cols:\n",
        "    if plotnumber<=10 :\n",
        "        ax = plt.subplot(4,4,plotnumber)\n",
        "        data_cleaned[column].plot.box(figsize=(15,15))\n",
        "#         plt.xlabel(column,fontsize=12)\n",
        "    plotnumber+=1\n",
        "plt.tight_layout()\n",
        "plt.show()"
      ],
      "execution_count": null,
      "outputs": [
        {
          "output_type": "display_data",
          "data": {
            "image/png": "[encoded data removed]",
            "text/plain": [
              "<Figure size 1080x1080 with 3 Axes>"
            ]
          },
          "metadata": {
            "tags": []
          }
        }
      ]
    },
    {
      "cell_type": "code",
      "metadata": {
        "id": "cqr0NDs530IW"
      },
      "source": [
        "#QQplot for outlier check\n",
        "import scipy.stats as stats\n",
        "def diagnostic_plots(df, variable):\n",
        "    # function to plot a histogram and a Q-Q plot\n",
        "    # side by side, for a certain variable\n",
        "    \n",
        "    plt.figure(figsize=(15,6))\n",
        "    plt.subplot(1, 2, 1)\n",
        "    df[variable].hist()\n",
        "\n",
        "    plt.subplot(1, 2, 2)\n",
        "    stats.probplot(df[variable], dist=\"norm\", plot=plt)\n",
        "\n",
        "    plt.show()\n",
        "    "
      ],
      "execution_count": null,
      "outputs": []
    },
    {
      "cell_type": "code",
      "metadata": {
        "colab": {
          "base_uri": "https://localhost:8080/",
          "height": 404
        },
        "id": "xkMl3TDr71Qc",
        "outputId": "637ef001-5f55-4485-a390-8bc604879beb"
      },
      "source": [
        "diagnostic_plots(data_cleaned,'last_call_duration')"
      ],
      "execution_count": null,
      "outputs": [
        {
          "output_type": "display_data",
          "data": {
            "image/png": "[encoded data removed]",
            "text/plain": [
              "<Figure size 1080x432 with 2 Axes>"
            ]
          },
          "metadata": {
            "tags": [],
            "needs_background": "light"
          }
        }
      ]
    },
    {
      "cell_type": "markdown",
      "metadata": {
        "id": "TuN6zpIO9-BV"
      },
      "source": [
        "### Removing skewness by applying log transformation\n"
      ]
    },
    {
      "cell_type": "code",
      "metadata": {
        "id": "Q5XXx-sI968d"
      },
      "source": [
        "# def log_transform(x):\n",
        "#   data_cleaned[x]=np.log(data_cleaned[x]+10)\n",
        "#   return data_cleaned\n",
        "\n",
        "# for i in ['age', 'last_contacted_day', 'last_call_duration',\n",
        "#        'contacts_during_camapign', 'days_passed', 'contacts_before_campaign']:\n",
        "#   data_cleaned=log_transform(i)\n",
        "# data_cleaned\n",
        "\n",
        "# data_cleaned['account_balance']=np.log(data_cleaned['account_balance']+10000)\n",
        "\n"
      ],
      "execution_count": null,
      "outputs": []
    },
    {
      "cell_type": "code",
      "metadata": {
        "colab": {
          "base_uri": "https://localhost:8080/",
          "height": 561
        },
        "id": "kPo6rkOkAVW6",
        "outputId": "935d791b-f503-420c-9d47-8fbadafe47eb"
      },
      "source": [
        "def log_transform(x):\r\n",
        "  data[x]=np.log(data[x]+10)\r\n",
        "  return data\r\n",
        "\r\n",
        "for i in ['age', 'last_call_duration',\r\n",
        "       'contacts_during_camapign']:\r\n",
        "  data=log_transform(i)\r\n",
        "data\r\n",
        "\r\n",
        "data['account_balance']=np.log(data['account_balance']+10000)"
      ],
      "execution_count": null,
      "outputs": [
        {
          "output_type": "error",
          "ename": "KeyError",
          "evalue": "ignored",
          "traceback": [
            "\u001b[0;31m---------------------------------------------------------------------------\u001b[0m",
            "\u001b[0;31mKeyError\u001b[0m                                  Traceback (most recent call last)",
            "\u001b[0;32m/usr/local/lib/python3.6/dist-packages/pandas/core/indexes/base.py\u001b[0m in \u001b[0;36mget_loc\u001b[0;34m(self, key, method, tolerance)\u001b[0m\n\u001b[1;32m   2897\u001b[0m             \u001b[0;32mtry\u001b[0m\u001b[0;34m:\u001b[0m\u001b[0;34m\u001b[0m\u001b[0;34m\u001b[0m\u001b[0m\n\u001b[0;32m-> 2898\u001b[0;31m                 \u001b[0;32mreturn\u001b[0m \u001b[0mself\u001b[0m\u001b[0;34m.\u001b[0m\u001b[0m_engine\u001b[0m\u001b[0;34m.\u001b[0m\u001b[0mget_loc\u001b[0m\u001b[0;34m(\u001b[0m\u001b[0mcasted_key\u001b[0m\u001b[0;34m)\u001b[0m\u001b[0;34m\u001b[0m\u001b[0;34m\u001b[0m\u001b[0m\n\u001b[0m\u001b[1;32m   2899\u001b[0m             \u001b[0;32mexcept\u001b[0m \u001b[0mKeyError\u001b[0m \u001b[0;32mas\u001b[0m \u001b[0merr\u001b[0m\u001b[0;34m:\u001b[0m\u001b[0;34m\u001b[0m\u001b[0;34m\u001b[0m\u001b[0m\n",
            "\u001b[0;32mpandas/_libs/index.pyx\u001b[0m in \u001b[0;36mpandas._libs.index.IndexEngine.get_loc\u001b[0;34m()\u001b[0m\n",
            "\u001b[0;32mpandas/_libs/index.pyx\u001b[0m in \u001b[0;36mpandas._libs.index.IndexEngine.get_loc\u001b[0;34m()\u001b[0m\n",
            "\u001b[0;32mpandas/_libs/hashtable_class_helper.pxi\u001b[0m in \u001b[0;36mpandas._libs.hashtable.PyObjectHashTable.get_item\u001b[0;34m()\u001b[0m\n",
            "\u001b[0;32mpandas/_libs/hashtable_class_helper.pxi\u001b[0m in \u001b[0;36mpandas._libs.hashtable.PyObjectHashTable.get_item\u001b[0;34m()\u001b[0m\n",
            "\u001b[0;31mKeyError\u001b[0m: 'account_balance'",
            "\nThe above exception was the direct cause of the following exception:\n",
            "\u001b[0;31mKeyError\u001b[0m                                  Traceback (most recent call last)",
            "\u001b[0;32m<ipython-input-37-ca848c5fc372>\u001b[0m in \u001b[0;36m<module>\u001b[0;34m()\u001b[0m\n\u001b[1;32m      8\u001b[0m \u001b[0mdata\u001b[0m\u001b[0;34m\u001b[0m\u001b[0;34m\u001b[0m\u001b[0m\n\u001b[1;32m      9\u001b[0m \u001b[0;34m\u001b[0m\u001b[0m\n\u001b[0;32m---> 10\u001b[0;31m \u001b[0mdata\u001b[0m\u001b[0;34m[\u001b[0m\u001b[0;34m'account_balance'\u001b[0m\u001b[0;34m]\u001b[0m\u001b[0;34m=\u001b[0m\u001b[0mnp\u001b[0m\u001b[0;34m.\u001b[0m\u001b[0mlog\u001b[0m\u001b[0;34m(\u001b[0m\u001b[0mdata\u001b[0m\u001b[0;34m[\u001b[0m\u001b[0;34m'account_balance'\u001b[0m\u001b[0;34m]\u001b[0m\u001b[0;34m+\u001b[0m\u001b[0;36m10000\u001b[0m\u001b[0;34m)\u001b[0m\u001b[0;34m\u001b[0m\u001b[0;34m\u001b[0m\u001b[0m\n\u001b[0m",
            "\u001b[0;32m/usr/local/lib/python3.6/dist-packages/pandas/core/frame.py\u001b[0m in \u001b[0;36m__getitem__\u001b[0;34m(self, key)\u001b[0m\n\u001b[1;32m   2904\u001b[0m             \u001b[0;32mif\u001b[0m \u001b[0mself\u001b[0m\u001b[0;34m.\u001b[0m\u001b[0mcolumns\u001b[0m\u001b[0;34m.\u001b[0m\u001b[0mnlevels\u001b[0m \u001b[0;34m>\u001b[0m \u001b[0;36m1\u001b[0m\u001b[0;34m:\u001b[0m\u001b[0;34m\u001b[0m\u001b[0;34m\u001b[0m\u001b[0m\n\u001b[1;32m   2905\u001b[0m                 \u001b[0;32mreturn\u001b[0m \u001b[0mself\u001b[0m\u001b[0;34m.\u001b[0m\u001b[0m_getitem_multilevel\u001b[0m\u001b[0;34m(\u001b[0m\u001b[0mkey\u001b[0m\u001b[0;34m)\u001b[0m\u001b[0;34m\u001b[0m\u001b[0;34m\u001b[0m\u001b[0m\n\u001b[0;32m-> 2906\u001b[0;31m             \u001b[0mindexer\u001b[0m \u001b[0;34m=\u001b[0m \u001b[0mself\u001b[0m\u001b[0;34m.\u001b[0m\u001b[0mcolumns\u001b[0m\u001b[0;34m.\u001b[0m\u001b[0mget_loc\u001b[0m\u001b[0;34m(\u001b[0m\u001b[0mkey\u001b[0m\u001b[0;34m)\u001b[0m\u001b[0;34m\u001b[0m\u001b[0;34m\u001b[0m\u001b[0m\n\u001b[0m\u001b[1;32m   2907\u001b[0m             \u001b[0;32mif\u001b[0m \u001b[0mis_integer\u001b[0m\u001b[0;34m(\u001b[0m\u001b[0mindexer\u001b[0m\u001b[0;34m)\u001b[0m\u001b[0;34m:\u001b[0m\u001b[0;34m\u001b[0m\u001b[0;34m\u001b[0m\u001b[0m\n\u001b[1;32m   2908\u001b[0m                 \u001b[0mindexer\u001b[0m \u001b[0;34m=\u001b[0m \u001b[0;34m[\u001b[0m\u001b[0mindexer\u001b[0m\u001b[0;34m]\u001b[0m\u001b[0;34m\u001b[0m\u001b[0;34m\u001b[0m\u001b[0m\n",
            "\u001b[0;32m/usr/local/lib/python3.6/dist-packages/pandas/core/indexes/base.py\u001b[0m in \u001b[0;36mget_loc\u001b[0;34m(self, key, method, tolerance)\u001b[0m\n\u001b[1;32m   2898\u001b[0m                 \u001b[0;32mreturn\u001b[0m \u001b[0mself\u001b[0m\u001b[0;34m.\u001b[0m\u001b[0m_engine\u001b[0m\u001b[0;34m.\u001b[0m\u001b[0mget_loc\u001b[0m\u001b[0;34m(\u001b[0m\u001b[0mcasted_key\u001b[0m\u001b[0;34m)\u001b[0m\u001b[0;34m\u001b[0m\u001b[0;34m\u001b[0m\u001b[0m\n\u001b[1;32m   2899\u001b[0m             \u001b[0;32mexcept\u001b[0m \u001b[0mKeyError\u001b[0m \u001b[0;32mas\u001b[0m \u001b[0merr\u001b[0m\u001b[0;34m:\u001b[0m\u001b[0;34m\u001b[0m\u001b[0;34m\u001b[0m\u001b[0m\n\u001b[0;32m-> 2900\u001b[0;31m                 \u001b[0;32mraise\u001b[0m \u001b[0mKeyError\u001b[0m\u001b[0;34m(\u001b[0m\u001b[0mkey\u001b[0m\u001b[0;34m)\u001b[0m \u001b[0;32mfrom\u001b[0m \u001b[0merr\u001b[0m\u001b[0;34m\u001b[0m\u001b[0;34m\u001b[0m\u001b[0m\n\u001b[0m\u001b[1;32m   2901\u001b[0m \u001b[0;34m\u001b[0m\u001b[0m\n\u001b[1;32m   2902\u001b[0m         \u001b[0;32mif\u001b[0m \u001b[0mtolerance\u001b[0m \u001b[0;32mis\u001b[0m \u001b[0;32mnot\u001b[0m \u001b[0;32mNone\u001b[0m\u001b[0;34m:\u001b[0m\u001b[0;34m\u001b[0m\u001b[0;34m\u001b[0m\u001b[0m\n",
            "\u001b[0;31mKeyError\u001b[0m: 'account_balance'"
          ]
        }
      ]
    },
    {
      "cell_type": "code",
      "metadata": {
        "colab": {
          "base_uri": "https://localhost:8080/"
        },
        "id": "M5cbVDDh_eUq",
        "outputId": "df55157f-efcd-4e13-9b59-25701ef06778"
      },
      "source": [
        "num_cols"
      ],
      "execution_count": null,
      "outputs": [
        {
          "output_type": "execute_result",
          "data": {
            "text/plain": [
              "Index(['age', 'last_call_duration', 'contacts_during_camapign'], dtype='object')"
            ]
          },
          "metadata": {
            "tags": []
          },
          "execution_count": 30
        }
      ]
    },
    {
      "cell_type": "code",
      "metadata": {
        "colab": {
          "base_uri": "https://localhost:8080/"
        },
        "id": "rhh4dhLlBWnU",
        "outputId": "ebfcbd79-e165-48e7-920a-6947ea629f92"
      },
      "source": [
        "data_cleaned['contacts_before_campaign']"
      ],
      "execution_count": null,
      "outputs": [
        {
          "output_type": "execute_result",
          "data": {
            "text/plain": [
              "0          0\n",
              "1          0\n",
              "2          0\n",
              "3          0\n",
              "4          0\n",
              "        ... \n",
              "41181      0\n",
              "41182    <10\n",
              "41184      0\n",
              "41185      0\n",
              "41186      0\n",
              "Name: contacts_before_campaign, Length: 35319, dtype: object"
            ]
          },
          "metadata": {
            "tags": []
          },
          "execution_count": 32
        }
      ]
    },
    {
      "cell_type": "code",
      "metadata": {
        "colab": {
          "base_uri": "https://localhost:8080/",
          "height": 388
        },
        "id": "lq1VQyVXAek2",
        "outputId": "737b68cd-d182-4cd8-b87a-b03e9a7de826"
      },
      "source": [
        "# let's see how data is distributed for every column\n",
        "plt.figure(figsize=(15,15), facecolor='white')\n",
        "plotnumber = 1\n",
        "\n",
        "for column in num_cols:\n",
        "    if plotnumber<=10 :\n",
        "        ax = plt.subplot(3,3,plotnumber)  \n",
        "        sns.distplot(data_cleaned[column],kde=True,color=\"Red\")\n",
        "        #plt.xlabel(column,fontsize=12)\n",
        "        #plt.ylabel(\"\")\n",
        "    plotnumber+=1\n",
        "plt.tight_layout()\n",
        "plt.show()\n"
      ],
      "execution_count": null,
      "outputs": [
        {
          "output_type": "display_data",
          "data": {
            "image/png": "[encoded data removed]",
            "text/plain": [
              "<Figure size 1080x1080 with 3 Axes>"
            ]
          },
          "metadata": {
            "tags": []
          }
        }
      ]
    },
    {
      "cell_type": "markdown",
      "metadata": {
        "id": "ka1ILrP7DzVQ"
      },
      "source": [
        "## Bivariate analysis\n",
        "\n",
        "\n",
        "**Relation between target(deposit) and categorical columns**"
      ]
    },
    {
      "cell_type": "code",
      "metadata": {
        "colab": {
          "base_uri": "https://localhost:8080/",
          "height": 1000
        },
        "id": "lDu-FPOIpa9N",
        "outputId": "e6116d66-f35e-40a4-bfbf-13739888077e"
      },
      "source": [
        "plotnumber = 1\n",
        "\n",
        "plt.figure(figsize=(20,18), facecolor='white')\n",
        "for column in cat_cols:\n",
        "    if plotnumber<=10 :\n",
        "        ax = plt.subplot(6,2,plotnumber)\n",
        "        # pd.crosstab(data[column],data['deposit'],normalize=True).plot.bar(rot=1,color=['orange','violet'],ax=ax)\n",
        "        sns.countplot(x=column,data=data,hue='deposit')\n",
        "        ax.set_xticklabels(ax.get_xticklabels(), rotation=40, ha=\"right\", fontsize=12)   \n",
        "\n",
        "    plotnumber+=1\n",
        "plt.tight_layout()\n",
        "plt.show()"
      ],
      "execution_count": null,
      "outputs": [
        {
          "output_type": "display_data",
          "data": {
            "image/png": "[encoded data removed]",
            "text/plain": [
              "<Figure size 1440x1296 with 10 Axes>"
            ]
          },
          "metadata": {
            "tags": []
          }
        }
      ]
    },
    {
      "cell_type": "code",
      "metadata": {
        "id": "GoDlkyA4aU2L"
      },
      "source": [
        "# plotnumber = 1\n",
        "\n",
        "# plt.figure(figsize=(20,18), facecolor='white')\n",
        "# for column in cat_cols:\n",
        "#     if plotnumber<=10 :\n",
        "#         ax = plt.subplot(6,2,plotnumber)\n",
        "#         pd.crosstab(data[column],data['deposit'],normalize=True).plot.bar(rot=1,color=['orange','violet'],ax=ax)\n",
        "#         # sns.countplot(x=column,data=data,hue='deposit')\n",
        "#         ax.set_xticklabels(ax.get_xticklabels(), rotation=40, ha=\"right\", fontsize=12)   \n",
        "\n",
        "#     plotnumber+=1\n",
        "# plt.tight_layout()\n",
        "# plt.show()"
      ],
      "execution_count": null,
      "outputs": []
    },
    {
      "cell_type": "markdown",
      "metadata": {
        "id": "yoisyx6_oIiF"
      },
      "source": [
        "**Inference from the bivariate analysis of categorical variables :**\n",
        "\n",
        "\n",
        "* Customers with credit default do not have deposits\n",
        "* It is more likely for a person without a housing loan and personal loan to start a deposit.\n"
      ]
    },
    {
      "cell_type": "markdown",
      "metadata": {
        "id": "lak3ovMFpwA9"
      },
      "source": [
        "**Relation between target(deposit) and numerical columns**"
      ]
    },
    {
      "cell_type": "code",
      "metadata": {
        "colab": {
          "base_uri": "https://localhost:8080/",
          "height": 391
        },
        "id": "vW2TjtZ-p6CP",
        "outputId": "9e388f44-552f-44c7-85dd-582915ce2a79"
      },
      "source": [
        "plotnumber = 1\n",
        "\n",
        "plt.figure(figsize=(18,15), facecolor='white')\n",
        "for column in num_cols:\n",
        "    if plotnumber<=10 :\n",
        "        ax = plt.subplot(6,2,plotnumber)\n",
        "        data.groupby('deposit')[column].mean().plot.bar(rot=1,color=['green','orange'],ax=ax,title=column)\n",
        "        # pd.crosstab(data[column],data['deposit'],normalize=True).plot.bar(rot=1,color=['orange','violet'],ax=ax)\n",
        "        # sns.countplot(x=column,data=data,hue='deposit')\n",
        "        ax.set_xticklabels(ax.get_xticklabels(), rotation=40, ha=\"right\", fontsize=12)  \n",
        "        ax.set_title(label=column,fontsize=18)\n",
        "    plotnumber+=1\n",
        "plt.tight_layout()\n",
        "plt.show()"
      ],
      "execution_count": null,
      "outputs": [
        {
          "output_type": "display_data",
          "data": {
            "image/png": "[encoded data removed]",
            "text/plain": [
              "<Figure size 1296x1080 with 3 Axes>"
            ]
          },
          "metadata": {
            "tags": []
          }
        }
      ]
    },
    {
      "cell_type": "markdown",
      "metadata": {
        "id": "sJGLvwLEwbzg"
      },
      "source": [
        "**Inference from the above analysis :**\n",
        "\n",
        "* calls of higher duration have resulted in higher number of deposits.\n",
        "* customers with higher account balance are likely to open a term deposit account\n"
      ]
    },
    {
      "cell_type": "markdown",
      "metadata": {
        "id": "omgoBYZu1X64"
      },
      "source": [
        "## Train test split"
      ]
    },
    {
      "cell_type": "code",
      "metadata": {
        "id": "pNqlzGPL1YVL"
      },
      "source": [
        "#independent variables\n",
        "X=data_cleaned.drop('deposit',axis=1)\n",
        "\n",
        "#target variable\n",
        "y=data_cleaned['deposit']\n",
        "\n",
        "y.replace({'yes' : 1, 'no' : 0},regex=True, inplace=True)\n",
        "\n",
        "#Train-test split\n",
        "\n",
        "x_train,x_test,y_train,y_test=train_test_split(X,y,test_size=0.3,random_state=30,stratify=y)"
      ],
      "execution_count": null,
      "outputs": []
    },
    {
      "cell_type": "code",
      "metadata": {
        "colab": {
          "base_uri": "https://localhost:8080/",
          "height": 422
        },
        "id": "jhJUa4MgDVsz",
        "outputId": "c423e55e-2639-428f-ccad-37f6c4b55868"
      },
      "source": [
        "x_test"
      ],
      "execution_count": null,
      "outputs": [
        {
          "output_type": "execute_result",
          "data": {
            "text/html": [
              "<div>\n",
              "<style scoped>\n",
              "    .dataframe tbody tr th:only-of-type {\n",
              "        vertical-align: middle;\n",
              "    }\n",
              "\n",
              "    .dataframe tbody tr th {\n",
              "        vertical-align: top;\n",
              "    }\n",
              "\n",
              "    .dataframe thead th {\n",
              "        text-align: right;\n",
              "    }\n",
              "</style>\n",
              "<table border=\"1\" class=\"dataframe\">\n",
              "  <thead>\n",
              "    <tr style=\"text-align: right;\">\n",
              "      <th></th>\n",
              "      <th>age</th>\n",
              "      <th>job</th>\n",
              "      <th>marital</th>\n",
              "      <th>education</th>\n",
              "      <th>credit_default</th>\n",
              "      <th>housing_loan</th>\n",
              "      <th>personal_loan</th>\n",
              "      <th>last_contacted_month</th>\n",
              "      <th>day_of_week</th>\n",
              "      <th>last_call_duration</th>\n",
              "      <th>contacts_during_camapign</th>\n",
              "      <th>days_passed</th>\n",
              "      <th>contacts_before_campaign</th>\n",
              "    </tr>\n",
              "  </thead>\n",
              "  <tbody>\n",
              "    <tr>\n",
              "      <th>3927</th>\n",
              "      <td>32</td>\n",
              "      <td>student</td>\n",
              "      <td>single</td>\n",
              "      <td>tertiary</td>\n",
              "      <td>no</td>\n",
              "      <td>no</td>\n",
              "      <td>no</td>\n",
              "      <td>may-aug</td>\n",
              "      <td>mon</td>\n",
              "      <td>4.30</td>\n",
              "      <td>1</td>\n",
              "      <td>never_contacted</td>\n",
              "      <td>0</td>\n",
              "    </tr>\n",
              "    <tr>\n",
              "      <th>32129</th>\n",
              "      <td>34</td>\n",
              "      <td>salaried</td>\n",
              "      <td>married</td>\n",
              "      <td>secondary</td>\n",
              "      <td>no</td>\n",
              "      <td>yes</td>\n",
              "      <td>yes</td>\n",
              "      <td>may-aug</td>\n",
              "      <td>fri</td>\n",
              "      <td>3.28</td>\n",
              "      <td>1</td>\n",
              "      <td>never_contacted</td>\n",
              "      <td>0</td>\n",
              "    </tr>\n",
              "    <tr>\n",
              "      <th>21431</th>\n",
              "      <td>46</td>\n",
              "      <td>salaried</td>\n",
              "      <td>married</td>\n",
              "      <td>tertiary</td>\n",
              "      <td>unknown</td>\n",
              "      <td>no</td>\n",
              "      <td>no</td>\n",
              "      <td>may-aug</td>\n",
              "      <td>tue</td>\n",
              "      <td>3.92</td>\n",
              "      <td>2</td>\n",
              "      <td>never_contacted</td>\n",
              "      <td>0</td>\n",
              "    </tr>\n",
              "    <tr>\n",
              "      <th>23968</th>\n",
              "      <td>45</td>\n",
              "      <td>salaried</td>\n",
              "      <td>married</td>\n",
              "      <td>tertiary</td>\n",
              "      <td>no</td>\n",
              "      <td>no</td>\n",
              "      <td>no</td>\n",
              "      <td>may-aug</td>\n",
              "      <td>fri</td>\n",
              "      <td>0.45</td>\n",
              "      <td>2</td>\n",
              "      <td>never_contacted</td>\n",
              "      <td>0</td>\n",
              "    </tr>\n",
              "    <tr>\n",
              "      <th>5133</th>\n",
              "      <td>42</td>\n",
              "      <td>salaried</td>\n",
              "      <td>divorced</td>\n",
              "      <td>primary</td>\n",
              "      <td>no</td>\n",
              "      <td>no</td>\n",
              "      <td>no</td>\n",
              "      <td>may-aug</td>\n",
              "      <td>fri</td>\n",
              "      <td>3.85</td>\n",
              "      <td>1</td>\n",
              "      <td>never_contacted</td>\n",
              "      <td>0</td>\n",
              "    </tr>\n",
              "    <tr>\n",
              "      <th>...</th>\n",
              "      <td>...</td>\n",
              "      <td>...</td>\n",
              "      <td>...</td>\n",
              "      <td>...</td>\n",
              "      <td>...</td>\n",
              "      <td>...</td>\n",
              "      <td>...</td>\n",
              "      <td>...</td>\n",
              "      <td>...</td>\n",
              "      <td>...</td>\n",
              "      <td>...</td>\n",
              "      <td>...</td>\n",
              "      <td>...</td>\n",
              "    </tr>\n",
              "    <tr>\n",
              "      <th>30332</th>\n",
              "      <td>40</td>\n",
              "      <td>salaried</td>\n",
              "      <td>married</td>\n",
              "      <td>tertiary</td>\n",
              "      <td>no</td>\n",
              "      <td>yes</td>\n",
              "      <td>no</td>\n",
              "      <td>jan-april</td>\n",
              "      <td>thu</td>\n",
              "      <td>9.67</td>\n",
              "      <td>2</td>\n",
              "      <td>recent</td>\n",
              "      <td>&lt;10</td>\n",
              "    </tr>\n",
              "    <tr>\n",
              "      <th>8657</th>\n",
              "      <td>40</td>\n",
              "      <td>salaried</td>\n",
              "      <td>married</td>\n",
              "      <td>primary</td>\n",
              "      <td>no</td>\n",
              "      <td>no</td>\n",
              "      <td>no</td>\n",
              "      <td>may-aug</td>\n",
              "      <td>wed</td>\n",
              "      <td>1.15</td>\n",
              "      <td>1</td>\n",
              "      <td>never_contacted</td>\n",
              "      <td>0</td>\n",
              "    </tr>\n",
              "    <tr>\n",
              "      <th>19297</th>\n",
              "      <td>37</td>\n",
              "      <td>salaried</td>\n",
              "      <td>single</td>\n",
              "      <td>tertiary</td>\n",
              "      <td>no</td>\n",
              "      <td>no</td>\n",
              "      <td>no</td>\n",
              "      <td>may-aug</td>\n",
              "      <td>wed</td>\n",
              "      <td>5.68</td>\n",
              "      <td>1</td>\n",
              "      <td>never_contacted</td>\n",
              "      <td>0</td>\n",
              "    </tr>\n",
              "    <tr>\n",
              "      <th>25865</th>\n",
              "      <td>55</td>\n",
              "      <td>salaried</td>\n",
              "      <td>divorced</td>\n",
              "      <td>secondary</td>\n",
              "      <td>no</td>\n",
              "      <td>no</td>\n",
              "      <td>no</td>\n",
              "      <td>sep-dec</td>\n",
              "      <td>wed</td>\n",
              "      <td>1.12</td>\n",
              "      <td>3</td>\n",
              "      <td>never_contacted</td>\n",
              "      <td>0</td>\n",
              "    </tr>\n",
              "    <tr>\n",
              "      <th>20073</th>\n",
              "      <td>49</td>\n",
              "      <td>salaried</td>\n",
              "      <td>married</td>\n",
              "      <td>secondary</td>\n",
              "      <td>no</td>\n",
              "      <td>no</td>\n",
              "      <td>no</td>\n",
              "      <td>may-aug</td>\n",
              "      <td>mon</td>\n",
              "      <td>3.53</td>\n",
              "      <td>1</td>\n",
              "      <td>never_contacted</td>\n",
              "      <td>0</td>\n",
              "    </tr>\n",
              "  </tbody>\n",
              "</table>\n",
              "<p>10596 rows × 13 columns</p>\n",
              "</div>"
            ],
            "text/plain": [
              "       age       job  ...      days_passed contacts_before_campaign\n",
              "3927    32   student  ...  never_contacted                        0\n",
              "32129   34  salaried  ...  never_contacted                        0\n",
              "21431   46  salaried  ...  never_contacted                        0\n",
              "23968   45  salaried  ...  never_contacted                        0\n",
              "5133    42  salaried  ...  never_contacted                        0\n",
              "...    ...       ...  ...              ...                      ...\n",
              "30332   40  salaried  ...           recent                      <10\n",
              "8657    40  salaried  ...  never_contacted                        0\n",
              "19297   37  salaried  ...  never_contacted                        0\n",
              "25865   55  salaried  ...  never_contacted                        0\n",
              "20073   49  salaried  ...  never_contacted                        0\n",
              "\n",
              "[10596 rows x 13 columns]"
            ]
          },
          "metadata": {
            "tags": []
          },
          "execution_count": 38
        }
      ]
    },
    {
      "cell_type": "markdown",
      "metadata": {
        "id": "Gkw_HLzpVTAc"
      },
      "source": [
        "## Feature Importance"
      ]
    },
    {
      "cell_type": "code",
      "metadata": {
        "colab": {
          "base_uri": "https://localhost:8080/",
          "height": 438
        },
        "id": "6FFuE2ZLJpnQ",
        "outputId": "0802f751-3918-4647-a1c0-48884842bb39"
      },
      "source": [
        "x_new=pd.get_dummies(x_train,drop_first=True)\n",
        "x_new"
      ],
      "execution_count": null,
      "outputs": [
        {
          "output_type": "execute_result",
          "data": {
            "text/html": [
              "<div>\n",
              "<style scoped>\n",
              "    .dataframe tbody tr th:only-of-type {\n",
              "        vertical-align: middle;\n",
              "    }\n",
              "\n",
              "    .dataframe tbody tr th {\n",
              "        vertical-align: top;\n",
              "    }\n",
              "\n",
              "    .dataframe thead th {\n",
              "        text-align: right;\n",
              "    }\n",
              "</style>\n",
              "<table border=\"1\" class=\"dataframe\">\n",
              "  <thead>\n",
              "    <tr style=\"text-align: right;\">\n",
              "      <th></th>\n",
              "      <th>age</th>\n",
              "      <th>last_call_duration</th>\n",
              "      <th>contacts_during_camapign</th>\n",
              "      <th>job_salaried</th>\n",
              "      <th>job_self-employed</th>\n",
              "      <th>job_student</th>\n",
              "      <th>job_unemployed</th>\n",
              "      <th>job_unknown</th>\n",
              "      <th>marital_married</th>\n",
              "      <th>marital_single</th>\n",
              "      <th>marital_unknown</th>\n",
              "      <th>education_primary</th>\n",
              "      <th>education_secondary</th>\n",
              "      <th>education_tertiary</th>\n",
              "      <th>education_unknown</th>\n",
              "      <th>credit_default_unknown</th>\n",
              "      <th>credit_default_yes</th>\n",
              "      <th>housing_loan_unknown</th>\n",
              "      <th>housing_loan_yes</th>\n",
              "      <th>personal_loan_unknown</th>\n",
              "      <th>personal_loan_yes</th>\n",
              "      <th>last_contacted_month_may-aug</th>\n",
              "      <th>last_contacted_month_sep-dec</th>\n",
              "      <th>day_of_week_mon</th>\n",
              "      <th>day_of_week_thu</th>\n",
              "      <th>day_of_week_tue</th>\n",
              "      <th>day_of_week_wed</th>\n",
              "      <th>days_passed_recent</th>\n",
              "      <th>contacts_before_campaign_&lt;10</th>\n",
              "    </tr>\n",
              "  </thead>\n",
              "  <tbody>\n",
              "    <tr>\n",
              "      <th>192</th>\n",
              "      <td>45</td>\n",
              "      <td>0.32</td>\n",
              "      <td>2</td>\n",
              "      <td>1</td>\n",
              "      <td>0</td>\n",
              "      <td>0</td>\n",
              "      <td>0</td>\n",
              "      <td>0</td>\n",
              "      <td>0</td>\n",
              "      <td>0</td>\n",
              "      <td>0</td>\n",
              "      <td>0</td>\n",
              "      <td>0</td>\n",
              "      <td>1</td>\n",
              "      <td>0</td>\n",
              "      <td>0</td>\n",
              "      <td>0</td>\n",
              "      <td>0</td>\n",
              "      <td>0</td>\n",
              "      <td>0</td>\n",
              "      <td>0</td>\n",
              "      <td>1</td>\n",
              "      <td>0</td>\n",
              "      <td>1</td>\n",
              "      <td>0</td>\n",
              "      <td>0</td>\n",
              "      <td>0</td>\n",
              "      <td>0</td>\n",
              "      <td>0</td>\n",
              "    </tr>\n",
              "    <tr>\n",
              "      <th>33249</th>\n",
              "      <td>36</td>\n",
              "      <td>2.80</td>\n",
              "      <td>5</td>\n",
              "      <td>1</td>\n",
              "      <td>0</td>\n",
              "      <td>0</td>\n",
              "      <td>0</td>\n",
              "      <td>0</td>\n",
              "      <td>0</td>\n",
              "      <td>1</td>\n",
              "      <td>0</td>\n",
              "      <td>0</td>\n",
              "      <td>0</td>\n",
              "      <td>1</td>\n",
              "      <td>0</td>\n",
              "      <td>0</td>\n",
              "      <td>0</td>\n",
              "      <td>0</td>\n",
              "      <td>0</td>\n",
              "      <td>0</td>\n",
              "      <td>0</td>\n",
              "      <td>1</td>\n",
              "      <td>0</td>\n",
              "      <td>0</td>\n",
              "      <td>0</td>\n",
              "      <td>1</td>\n",
              "      <td>0</td>\n",
              "      <td>0</td>\n",
              "      <td>1</td>\n",
              "    </tr>\n",
              "    <tr>\n",
              "      <th>35391</th>\n",
              "      <td>40</td>\n",
              "      <td>2.22</td>\n",
              "      <td>2</td>\n",
              "      <td>1</td>\n",
              "      <td>0</td>\n",
              "      <td>0</td>\n",
              "      <td>0</td>\n",
              "      <td>0</td>\n",
              "      <td>1</td>\n",
              "      <td>0</td>\n",
              "      <td>0</td>\n",
              "      <td>0</td>\n",
              "      <td>0</td>\n",
              "      <td>1</td>\n",
              "      <td>0</td>\n",
              "      <td>0</td>\n",
              "      <td>0</td>\n",
              "      <td>0</td>\n",
              "      <td>1</td>\n",
              "      <td>0</td>\n",
              "      <td>1</td>\n",
              "      <td>1</td>\n",
              "      <td>0</td>\n",
              "      <td>0</td>\n",
              "      <td>0</td>\n",
              "      <td>0</td>\n",
              "      <td>0</td>\n",
              "      <td>0</td>\n",
              "      <td>0</td>\n",
              "    </tr>\n",
              "    <tr>\n",
              "      <th>37074</th>\n",
              "      <td>38</td>\n",
              "      <td>1.07</td>\n",
              "      <td>3</td>\n",
              "      <td>1</td>\n",
              "      <td>0</td>\n",
              "      <td>0</td>\n",
              "      <td>0</td>\n",
              "      <td>0</td>\n",
              "      <td>1</td>\n",
              "      <td>0</td>\n",
              "      <td>0</td>\n",
              "      <td>0</td>\n",
              "      <td>1</td>\n",
              "      <td>0</td>\n",
              "      <td>0</td>\n",
              "      <td>0</td>\n",
              "      <td>0</td>\n",
              "      <td>0</td>\n",
              "      <td>1</td>\n",
              "      <td>0</td>\n",
              "      <td>1</td>\n",
              "      <td>1</td>\n",
              "      <td>0</td>\n",
              "      <td>0</td>\n",
              "      <td>0</td>\n",
              "      <td>0</td>\n",
              "      <td>1</td>\n",
              "      <td>0</td>\n",
              "      <td>0</td>\n",
              "    </tr>\n",
              "    <tr>\n",
              "      <th>1771</th>\n",
              "      <td>34</td>\n",
              "      <td>3.73</td>\n",
              "      <td>3</td>\n",
              "      <td>1</td>\n",
              "      <td>0</td>\n",
              "      <td>0</td>\n",
              "      <td>0</td>\n",
              "      <td>0</td>\n",
              "      <td>1</td>\n",
              "      <td>0</td>\n",
              "      <td>0</td>\n",
              "      <td>0</td>\n",
              "      <td>0</td>\n",
              "      <td>1</td>\n",
              "      <td>0</td>\n",
              "      <td>0</td>\n",
              "      <td>0</td>\n",
              "      <td>0</td>\n",
              "      <td>1</td>\n",
              "      <td>0</td>\n",
              "      <td>1</td>\n",
              "      <td>1</td>\n",
              "      <td>0</td>\n",
              "      <td>0</td>\n",
              "      <td>0</td>\n",
              "      <td>0</td>\n",
              "      <td>0</td>\n",
              "      <td>0</td>\n",
              "      <td>0</td>\n",
              "    </tr>\n",
              "    <tr>\n",
              "      <th>...</th>\n",
              "      <td>...</td>\n",
              "      <td>...</td>\n",
              "      <td>...</td>\n",
              "      <td>...</td>\n",
              "      <td>...</td>\n",
              "      <td>...</td>\n",
              "      <td>...</td>\n",
              "      <td>...</td>\n",
              "      <td>...</td>\n",
              "      <td>...</td>\n",
              "      <td>...</td>\n",
              "      <td>...</td>\n",
              "      <td>...</td>\n",
              "      <td>...</td>\n",
              "      <td>...</td>\n",
              "      <td>...</td>\n",
              "      <td>...</td>\n",
              "      <td>...</td>\n",
              "      <td>...</td>\n",
              "      <td>...</td>\n",
              "      <td>...</td>\n",
              "      <td>...</td>\n",
              "      <td>...</td>\n",
              "      <td>...</td>\n",
              "      <td>...</td>\n",
              "      <td>...</td>\n",
              "      <td>...</td>\n",
              "      <td>...</td>\n",
              "      <td>...</td>\n",
              "    </tr>\n",
              "    <tr>\n",
              "      <th>5262</th>\n",
              "      <td>51</td>\n",
              "      <td>7.47</td>\n",
              "      <td>1</td>\n",
              "      <td>1</td>\n",
              "      <td>0</td>\n",
              "      <td>0</td>\n",
              "      <td>0</td>\n",
              "      <td>0</td>\n",
              "      <td>0</td>\n",
              "      <td>1</td>\n",
              "      <td>0</td>\n",
              "      <td>1</td>\n",
              "      <td>0</td>\n",
              "      <td>0</td>\n",
              "      <td>0</td>\n",
              "      <td>1</td>\n",
              "      <td>0</td>\n",
              "      <td>0</td>\n",
              "      <td>0</td>\n",
              "      <td>0</td>\n",
              "      <td>0</td>\n",
              "      <td>1</td>\n",
              "      <td>0</td>\n",
              "      <td>0</td>\n",
              "      <td>0</td>\n",
              "      <td>0</td>\n",
              "      <td>0</td>\n",
              "      <td>0</td>\n",
              "      <td>0</td>\n",
              "    </tr>\n",
              "    <tr>\n",
              "      <th>40854</th>\n",
              "      <td>42</td>\n",
              "      <td>11.30</td>\n",
              "      <td>1</td>\n",
              "      <td>1</td>\n",
              "      <td>0</td>\n",
              "      <td>0</td>\n",
              "      <td>0</td>\n",
              "      <td>0</td>\n",
              "      <td>0</td>\n",
              "      <td>0</td>\n",
              "      <td>0</td>\n",
              "      <td>0</td>\n",
              "      <td>0</td>\n",
              "      <td>1</td>\n",
              "      <td>0</td>\n",
              "      <td>0</td>\n",
              "      <td>0</td>\n",
              "      <td>0</td>\n",
              "      <td>0</td>\n",
              "      <td>0</td>\n",
              "      <td>0</td>\n",
              "      <td>0</td>\n",
              "      <td>1</td>\n",
              "      <td>0</td>\n",
              "      <td>0</td>\n",
              "      <td>0</td>\n",
              "      <td>1</td>\n",
              "      <td>1</td>\n",
              "      <td>1</td>\n",
              "    </tr>\n",
              "    <tr>\n",
              "      <th>6938</th>\n",
              "      <td>41</td>\n",
              "      <td>0.62</td>\n",
              "      <td>3</td>\n",
              "      <td>1</td>\n",
              "      <td>0</td>\n",
              "      <td>0</td>\n",
              "      <td>0</td>\n",
              "      <td>0</td>\n",
              "      <td>1</td>\n",
              "      <td>0</td>\n",
              "      <td>0</td>\n",
              "      <td>1</td>\n",
              "      <td>0</td>\n",
              "      <td>0</td>\n",
              "      <td>0</td>\n",
              "      <td>0</td>\n",
              "      <td>0</td>\n",
              "      <td>0</td>\n",
              "      <td>1</td>\n",
              "      <td>0</td>\n",
              "      <td>0</td>\n",
              "      <td>1</td>\n",
              "      <td>0</td>\n",
              "      <td>0</td>\n",
              "      <td>1</td>\n",
              "      <td>0</td>\n",
              "      <td>0</td>\n",
              "      <td>0</td>\n",
              "      <td>0</td>\n",
              "    </tr>\n",
              "    <tr>\n",
              "      <th>21398</th>\n",
              "      <td>37</td>\n",
              "      <td>2.63</td>\n",
              "      <td>1</td>\n",
              "      <td>1</td>\n",
              "      <td>0</td>\n",
              "      <td>0</td>\n",
              "      <td>0</td>\n",
              "      <td>0</td>\n",
              "      <td>1</td>\n",
              "      <td>0</td>\n",
              "      <td>0</td>\n",
              "      <td>0</td>\n",
              "      <td>0</td>\n",
              "      <td>1</td>\n",
              "      <td>0</td>\n",
              "      <td>0</td>\n",
              "      <td>0</td>\n",
              "      <td>0</td>\n",
              "      <td>1</td>\n",
              "      <td>0</td>\n",
              "      <td>0</td>\n",
              "      <td>1</td>\n",
              "      <td>0</td>\n",
              "      <td>0</td>\n",
              "      <td>0</td>\n",
              "      <td>1</td>\n",
              "      <td>0</td>\n",
              "      <td>0</td>\n",
              "      <td>0</td>\n",
              "    </tr>\n",
              "    <tr>\n",
              "      <th>27521</th>\n",
              "      <td>46</td>\n",
              "      <td>1.63</td>\n",
              "      <td>5</td>\n",
              "      <td>1</td>\n",
              "      <td>0</td>\n",
              "      <td>0</td>\n",
              "      <td>0</td>\n",
              "      <td>0</td>\n",
              "      <td>1</td>\n",
              "      <td>0</td>\n",
              "      <td>0</td>\n",
              "      <td>0</td>\n",
              "      <td>0</td>\n",
              "      <td>1</td>\n",
              "      <td>0</td>\n",
              "      <td>0</td>\n",
              "      <td>0</td>\n",
              "      <td>0</td>\n",
              "      <td>0</td>\n",
              "      <td>0</td>\n",
              "      <td>1</td>\n",
              "      <td>0</td>\n",
              "      <td>1</td>\n",
              "      <td>0</td>\n",
              "      <td>0</td>\n",
              "      <td>0</td>\n",
              "      <td>0</td>\n",
              "      <td>0</td>\n",
              "      <td>0</td>\n",
              "    </tr>\n",
              "  </tbody>\n",
              "</table>\n",
              "<p>24723 rows × 29 columns</p>\n",
              "</div>"
            ],
            "text/plain": [
              "       age  ...  contacts_before_campaign_<10\n",
              "192     45  ...                             0\n",
              "33249   36  ...                             1\n",
              "35391   40  ...                             0\n",
              "37074   38  ...                             0\n",
              "1771    34  ...                             0\n",
              "...    ...  ...                           ...\n",
              "5262    51  ...                             0\n",
              "40854   42  ...                             1\n",
              "6938    41  ...                             0\n",
              "21398   37  ...                             0\n",
              "27521   46  ...                             0\n",
              "\n",
              "[24723 rows x 29 columns]"
            ]
          },
          "metadata": {
            "tags": []
          },
          "execution_count": 39
        }
      ]
    },
    {
      "cell_type": "code",
      "metadata": {
        "colab": {
          "base_uri": "https://localhost:8080/"
        },
        "id": "q6p47klnqux6",
        "outputId": "99f73d32-83cb-4f00-fcd2-fb6ae1825c0a"
      },
      "source": [
        "# Important feature using ExtraTreesRegressor\n",
        "\n",
        "\n",
        "from sklearn.ensemble import ExtraTreesRegressor\n",
        "selection = ExtraTreesRegressor()\n",
        "selection.fit(x_new, y_train)\n"
      ],
      "execution_count": null,
      "outputs": [
        {
          "output_type": "execute_result",
          "data": {
            "text/plain": [
              "ExtraTreesRegressor(bootstrap=False, ccp_alpha=0.0, criterion='mse',\n",
              "                    max_depth=None, max_features='auto', max_leaf_nodes=None,\n",
              "                    max_samples=None, min_impurity_decrease=0.0,\n",
              "                    min_impurity_split=None, min_samples_leaf=1,\n",
              "                    min_samples_split=2, min_weight_fraction_leaf=0.0,\n",
              "                    n_estimators=100, n_jobs=None, oob_score=False,\n",
              "                    random_state=None, verbose=0, warm_start=False)"
            ]
          },
          "metadata": {
            "tags": []
          },
          "execution_count": 40
        }
      ]
    },
    {
      "cell_type": "code",
      "metadata": {
        "colab": {
          "base_uri": "https://localhost:8080/"
        },
        "id": "Kzw-xIFpqxm1",
        "outputId": "e88d6d41-11fb-459f-9b34-8063c39c9460"
      },
      "source": [
        "print(selection.feature_importances_)"
      ],
      "execution_count": null,
      "outputs": [
        {
          "output_type": "stream",
          "text": [
            "[0.14942349 0.25846179 0.0760055  0.01517369 0.0106386  0.00878111\n",
            " 0.00681695 0.00261969 0.02310016 0.02055953 0.0008085  0.01172552\n",
            " 0.01671369 0.01928465 0.00802544 0.01346496 0.         0.00336734\n",
            " 0.04063493 0.00362234 0.02605777 0.02423713 0.01437512 0.02162775\n",
            " 0.02404013 0.02458136 0.02321696 0.13343841 0.01919749]\n"
          ],
          "name": "stdout"
        }
      ]
    },
    {
      "cell_type": "code",
      "metadata": {
        "colab": {
          "base_uri": "https://localhost:8080/",
          "height": 483
        },
        "id": "rgITj1Yjp_3t",
        "outputId": "45d839f0-b7c8-425a-bd8e-4bd37b7cf1c2"
      },
      "source": [
        "plt.figure(figsize = (12,8))\n",
        "feat_importances = pd.Series(selection.feature_importances_,index=x_new.columns)\n",
        "feat_importances.nlargest(20).plot(kind='barh')\n",
        "plt.show()\n"
      ],
      "execution_count": null,
      "outputs": [
        {
          "output_type": "display_data",
          "data": {
            "image/png": "[encoded data removed]",
            "text/plain": [
              "<Figure size 864x576 with 1 Axes>"
            ]
          },
          "metadata": {
            "tags": []
          }
        }
      ]
    },
    {
      "cell_type": "markdown",
      "metadata": {
        "id": "NThpaPJ-1Jcb"
      },
      "source": [
        "## Transformation pipelines"
      ]
    },
    {
      "cell_type": "code",
      "metadata": {
        "colab": {
          "base_uri": "https://localhost:8080/"
        },
        "id": "npAKTZJv0gFM",
        "outputId": "8d6fc680-927c-4b87-f80b-8d4b83d75cd4"
      },
      "source": [
        "cat_cols"
      ],
      "execution_count": null,
      "outputs": [
        {
          "output_type": "execute_result",
          "data": {
            "text/plain": [
              "Index(['job', 'marital', 'education', 'credit_default', 'housing_loan',\n",
              "       'personal_loan', 'last_contacted_month', 'day_of_week', 'days_passed',\n",
              "       'contacts_before_campaign', 'deposit'],\n",
              "      dtype='object')"
            ]
          },
          "metadata": {
            "tags": []
          },
          "execution_count": 43
        }
      ]
    },
    {
      "cell_type": "code",
      "metadata": {
        "id": "_d5hLLOd0MVJ"
      },
      "source": [
        "from sklearn.preprocessing import StandardScaler\n",
        "# from sklearn.impute import SimpleImputer\n",
        "from sklearn.pipeline import Pipeline\n",
        "from sklearn.preprocessing import OneHotEncoder\n",
        "\n",
        "\n",
        "\n",
        "#for numerical varibles\n",
        "x_train_num=x_train[num_cols]\n",
        "\n",
        "num_pipeline=Pipeline([\n",
        "                       ('std_scaler',StandardScaler()),\n",
        "                      \n",
        "                      ])\n",
        "\n",
        "x_train_num_prepared=num_pipeline.fit_transform(x_train_num)\n",
        "\n",
        "#for categorical variables\n",
        "\n",
        "cat_cols_for_train=['job', 'marital', 'education', 'credit_default', 'housing_loan',\n",
        "       'personal_loan', 'last_contacted_month', 'day_of_week', 'days_passed',\n",
        "       'contacts_before_campaign']\n",
        "x_train_cat=x_train[cat_cols_for_train]\n",
        "cat_pipeline=Pipeline([('encoder',OneHotEncoder())])\n",
        "\n",
        "x_train_cat_prepared=cat_pipeline.fit_transform(x_train_cat)\n",
        "\n",
        "# x_train_prepared=np.concatenate((x_train_num_prepared,x_train_cat_prepared.toarray()),axis=1)\n",
        "\n",
        "from sklearn.compose import ColumnTransformer\n",
        "\n",
        "num_attribs=list(x_train_num)\n",
        "cat_attribs=list(x_train_cat)\n",
        "\n",
        "full_pipeline=ColumnTransformer([\n",
        "                                 ('num',num_pipeline,num_attribs),\n",
        "                                 ('cat',cat_pipeline,cat_attribs),\n",
        "])\n",
        "\n",
        "x_train_prepared=full_pipeline.fit_transform(x_train)"
      ],
      "execution_count": null,
      "outputs": []
    },
    {
      "cell_type": "code",
      "metadata": {
        "colab": {
          "base_uri": "https://localhost:8080/"
        },
        "id": "CdehM-o10MSy",
        "outputId": "6a34cf0c-7526-4d36-f970-413400fff757"
      },
      "source": [
        "x_train_prepared.shape"
      ],
      "execution_count": null,
      "outputs": [
        {
          "output_type": "execute_result",
          "data": {
            "text/plain": [
              "(24723, 39)"
            ]
          },
          "metadata": {
            "tags": []
          },
          "execution_count": 45
        }
      ]
    },
    {
      "cell_type": "code",
      "metadata": {
        "colab": {
          "base_uri": "https://localhost:8080/",
          "height": 422
        },
        "id": "GkDhhIhGxpZ5",
        "outputId": "2e0cb632-1d1a-401a-9519-ec3a6d002509"
      },
      "source": [
        "#preparing the test data\n",
        "\n",
        "x_test_prepared=full_pipeline.transform(x_test)\n",
        "x_test_prepared_df=pd.DataFrame(x_test_prepared)\n",
        "x_test_prepared_df"
      ],
      "execution_count": null,
      "outputs": [
        {
          "output_type": "execute_result",
          "data": {
            "text/html": [
              "<div>\n",
              "<style scoped>\n",
              "    .dataframe tbody tr th:only-of-type {\n",
              "        vertical-align: middle;\n",
              "    }\n",
              "\n",
              "    .dataframe tbody tr th {\n",
              "        vertical-align: top;\n",
              "    }\n",
              "\n",
              "    .dataframe thead th {\n",
              "        text-align: right;\n",
              "    }\n",
              "</style>\n",
              "<table border=\"1\" class=\"dataframe\">\n",
              "  <thead>\n",
              "    <tr style=\"text-align: right;\">\n",
              "      <th></th>\n",
              "      <th>0</th>\n",
              "      <th>1</th>\n",
              "      <th>2</th>\n",
              "      <th>3</th>\n",
              "      <th>4</th>\n",
              "      <th>5</th>\n",
              "      <th>6</th>\n",
              "      <th>7</th>\n",
              "      <th>8</th>\n",
              "      <th>9</th>\n",
              "      <th>10</th>\n",
              "      <th>11</th>\n",
              "      <th>12</th>\n",
              "      <th>13</th>\n",
              "      <th>14</th>\n",
              "      <th>15</th>\n",
              "      <th>16</th>\n",
              "      <th>17</th>\n",
              "      <th>18</th>\n",
              "      <th>19</th>\n",
              "      <th>20</th>\n",
              "      <th>21</th>\n",
              "      <th>22</th>\n",
              "      <th>23</th>\n",
              "      <th>24</th>\n",
              "      <th>25</th>\n",
              "      <th>26</th>\n",
              "      <th>27</th>\n",
              "      <th>28</th>\n",
              "      <th>29</th>\n",
              "      <th>30</th>\n",
              "      <th>31</th>\n",
              "      <th>32</th>\n",
              "      <th>33</th>\n",
              "      <th>34</th>\n",
              "      <th>35</th>\n",
              "      <th>36</th>\n",
              "      <th>37</th>\n",
              "      <th>38</th>\n",
              "    </tr>\n",
              "  </thead>\n",
              "  <tbody>\n",
              "    <tr>\n",
              "      <th>0</th>\n",
              "      <td>-0.761979</td>\n",
              "      <td>0.254456</td>\n",
              "      <td>-0.814632</td>\n",
              "      <td>0.0</td>\n",
              "      <td>0.0</td>\n",
              "      <td>0.0</td>\n",
              "      <td>1.0</td>\n",
              "      <td>0.0</td>\n",
              "      <td>0.0</td>\n",
              "      <td>0.0</td>\n",
              "      <td>0.0</td>\n",
              "      <td>1.0</td>\n",
              "      <td>0.0</td>\n",
              "      <td>0.0</td>\n",
              "      <td>0.0</td>\n",
              "      <td>0.0</td>\n",
              "      <td>1.0</td>\n",
              "      <td>0.0</td>\n",
              "      <td>1.0</td>\n",
              "      <td>0.0</td>\n",
              "      <td>0.0</td>\n",
              "      <td>1.0</td>\n",
              "      <td>0.0</td>\n",
              "      <td>0.0</td>\n",
              "      <td>1.0</td>\n",
              "      <td>0.0</td>\n",
              "      <td>0.0</td>\n",
              "      <td>0.0</td>\n",
              "      <td>1.0</td>\n",
              "      <td>0.0</td>\n",
              "      <td>0.0</td>\n",
              "      <td>1.0</td>\n",
              "      <td>0.0</td>\n",
              "      <td>0.0</td>\n",
              "      <td>0.0</td>\n",
              "      <td>1.0</td>\n",
              "      <td>0.0</td>\n",
              "      <td>1.0</td>\n",
              "      <td>0.0</td>\n",
              "    </tr>\n",
              "    <tr>\n",
              "      <th>1</th>\n",
              "      <td>-0.540546</td>\n",
              "      <td>-0.135103</td>\n",
              "      <td>-0.814632</td>\n",
              "      <td>0.0</td>\n",
              "      <td>1.0</td>\n",
              "      <td>0.0</td>\n",
              "      <td>0.0</td>\n",
              "      <td>0.0</td>\n",
              "      <td>0.0</td>\n",
              "      <td>0.0</td>\n",
              "      <td>1.0</td>\n",
              "      <td>0.0</td>\n",
              "      <td>0.0</td>\n",
              "      <td>0.0</td>\n",
              "      <td>0.0</td>\n",
              "      <td>1.0</td>\n",
              "      <td>0.0</td>\n",
              "      <td>0.0</td>\n",
              "      <td>1.0</td>\n",
              "      <td>0.0</td>\n",
              "      <td>0.0</td>\n",
              "      <td>0.0</td>\n",
              "      <td>0.0</td>\n",
              "      <td>1.0</td>\n",
              "      <td>0.0</td>\n",
              "      <td>0.0</td>\n",
              "      <td>1.0</td>\n",
              "      <td>0.0</td>\n",
              "      <td>1.0</td>\n",
              "      <td>0.0</td>\n",
              "      <td>1.0</td>\n",
              "      <td>0.0</td>\n",
              "      <td>0.0</td>\n",
              "      <td>0.0</td>\n",
              "      <td>0.0</td>\n",
              "      <td>1.0</td>\n",
              "      <td>0.0</td>\n",
              "      <td>1.0</td>\n",
              "      <td>0.0</td>\n",
              "    </tr>\n",
              "    <tr>\n",
              "      <th>2</th>\n",
              "      <td>0.788051</td>\n",
              "      <td>0.109326</td>\n",
              "      <td>-0.038518</td>\n",
              "      <td>0.0</td>\n",
              "      <td>1.0</td>\n",
              "      <td>0.0</td>\n",
              "      <td>0.0</td>\n",
              "      <td>0.0</td>\n",
              "      <td>0.0</td>\n",
              "      <td>0.0</td>\n",
              "      <td>1.0</td>\n",
              "      <td>0.0</td>\n",
              "      <td>0.0</td>\n",
              "      <td>0.0</td>\n",
              "      <td>0.0</td>\n",
              "      <td>0.0</td>\n",
              "      <td>1.0</td>\n",
              "      <td>0.0</td>\n",
              "      <td>0.0</td>\n",
              "      <td>1.0</td>\n",
              "      <td>0.0</td>\n",
              "      <td>1.0</td>\n",
              "      <td>0.0</td>\n",
              "      <td>0.0</td>\n",
              "      <td>1.0</td>\n",
              "      <td>0.0</td>\n",
              "      <td>0.0</td>\n",
              "      <td>0.0</td>\n",
              "      <td>1.0</td>\n",
              "      <td>0.0</td>\n",
              "      <td>0.0</td>\n",
              "      <td>0.0</td>\n",
              "      <td>0.0</td>\n",
              "      <td>1.0</td>\n",
              "      <td>0.0</td>\n",
              "      <td>1.0</td>\n",
              "      <td>0.0</td>\n",
              "      <td>1.0</td>\n",
              "      <td>0.0</td>\n",
              "    </tr>\n",
              "    <tr>\n",
              "      <th>3</th>\n",
              "      <td>0.677335</td>\n",
              "      <td>-1.215938</td>\n",
              "      <td>-0.038518</td>\n",
              "      <td>0.0</td>\n",
              "      <td>1.0</td>\n",
              "      <td>0.0</td>\n",
              "      <td>0.0</td>\n",
              "      <td>0.0</td>\n",
              "      <td>0.0</td>\n",
              "      <td>0.0</td>\n",
              "      <td>1.0</td>\n",
              "      <td>0.0</td>\n",
              "      <td>0.0</td>\n",
              "      <td>0.0</td>\n",
              "      <td>0.0</td>\n",
              "      <td>0.0</td>\n",
              "      <td>1.0</td>\n",
              "      <td>0.0</td>\n",
              "      <td>1.0</td>\n",
              "      <td>0.0</td>\n",
              "      <td>0.0</td>\n",
              "      <td>1.0</td>\n",
              "      <td>0.0</td>\n",
              "      <td>0.0</td>\n",
              "      <td>1.0</td>\n",
              "      <td>0.0</td>\n",
              "      <td>0.0</td>\n",
              "      <td>0.0</td>\n",
              "      <td>1.0</td>\n",
              "      <td>0.0</td>\n",
              "      <td>1.0</td>\n",
              "      <td>0.0</td>\n",
              "      <td>0.0</td>\n",
              "      <td>0.0</td>\n",
              "      <td>0.0</td>\n",
              "      <td>1.0</td>\n",
              "      <td>0.0</td>\n",
              "      <td>1.0</td>\n",
              "      <td>0.0</td>\n",
              "    </tr>\n",
              "    <tr>\n",
              "      <th>4</th>\n",
              "      <td>0.345186</td>\n",
              "      <td>0.082592</td>\n",
              "      <td>-0.814632</td>\n",
              "      <td>0.0</td>\n",
              "      <td>1.0</td>\n",
              "      <td>0.0</td>\n",
              "      <td>0.0</td>\n",
              "      <td>0.0</td>\n",
              "      <td>0.0</td>\n",
              "      <td>1.0</td>\n",
              "      <td>0.0</td>\n",
              "      <td>0.0</td>\n",
              "      <td>0.0</td>\n",
              "      <td>0.0</td>\n",
              "      <td>1.0</td>\n",
              "      <td>0.0</td>\n",
              "      <td>0.0</td>\n",
              "      <td>0.0</td>\n",
              "      <td>1.0</td>\n",
              "      <td>0.0</td>\n",
              "      <td>0.0</td>\n",
              "      <td>1.0</td>\n",
              "      <td>0.0</td>\n",
              "      <td>0.0</td>\n",
              "      <td>1.0</td>\n",
              "      <td>0.0</td>\n",
              "      <td>0.0</td>\n",
              "      <td>0.0</td>\n",
              "      <td>1.0</td>\n",
              "      <td>0.0</td>\n",
              "      <td>1.0</td>\n",
              "      <td>0.0</td>\n",
              "      <td>0.0</td>\n",
              "      <td>0.0</td>\n",
              "      <td>0.0</td>\n",
              "      <td>1.0</td>\n",
              "      <td>0.0</td>\n",
              "      <td>1.0</td>\n",
              "      <td>0.0</td>\n",
              "    </tr>\n",
              "    <tr>\n",
              "      <th>...</th>\n",
              "      <td>...</td>\n",
              "      <td>...</td>\n",
              "      <td>...</td>\n",
              "      <td>...</td>\n",
              "      <td>...</td>\n",
              "      <td>...</td>\n",
              "      <td>...</td>\n",
              "      <td>...</td>\n",
              "      <td>...</td>\n",
              "      <td>...</td>\n",
              "      <td>...</td>\n",
              "      <td>...</td>\n",
              "      <td>...</td>\n",
              "      <td>...</td>\n",
              "      <td>...</td>\n",
              "      <td>...</td>\n",
              "      <td>...</td>\n",
              "      <td>...</td>\n",
              "      <td>...</td>\n",
              "      <td>...</td>\n",
              "      <td>...</td>\n",
              "      <td>...</td>\n",
              "      <td>...</td>\n",
              "      <td>...</td>\n",
              "      <td>...</td>\n",
              "      <td>...</td>\n",
              "      <td>...</td>\n",
              "      <td>...</td>\n",
              "      <td>...</td>\n",
              "      <td>...</td>\n",
              "      <td>...</td>\n",
              "      <td>...</td>\n",
              "      <td>...</td>\n",
              "      <td>...</td>\n",
              "      <td>...</td>\n",
              "      <td>...</td>\n",
              "      <td>...</td>\n",
              "      <td>...</td>\n",
              "      <td>...</td>\n",
              "    </tr>\n",
              "    <tr>\n",
              "      <th>10591</th>\n",
              "      <td>0.123753</td>\n",
              "      <td>2.305370</td>\n",
              "      <td>-0.038518</td>\n",
              "      <td>0.0</td>\n",
              "      <td>1.0</td>\n",
              "      <td>0.0</td>\n",
              "      <td>0.0</td>\n",
              "      <td>0.0</td>\n",
              "      <td>0.0</td>\n",
              "      <td>0.0</td>\n",
              "      <td>1.0</td>\n",
              "      <td>0.0</td>\n",
              "      <td>0.0</td>\n",
              "      <td>0.0</td>\n",
              "      <td>0.0</td>\n",
              "      <td>0.0</td>\n",
              "      <td>1.0</td>\n",
              "      <td>0.0</td>\n",
              "      <td>1.0</td>\n",
              "      <td>0.0</td>\n",
              "      <td>0.0</td>\n",
              "      <td>0.0</td>\n",
              "      <td>0.0</td>\n",
              "      <td>1.0</td>\n",
              "      <td>1.0</td>\n",
              "      <td>0.0</td>\n",
              "      <td>0.0</td>\n",
              "      <td>1.0</td>\n",
              "      <td>0.0</td>\n",
              "      <td>0.0</td>\n",
              "      <td>0.0</td>\n",
              "      <td>0.0</td>\n",
              "      <td>1.0</td>\n",
              "      <td>0.0</td>\n",
              "      <td>0.0</td>\n",
              "      <td>0.0</td>\n",
              "      <td>1.0</td>\n",
              "      <td>0.0</td>\n",
              "      <td>1.0</td>\n",
              "    </tr>\n",
              "    <tr>\n",
              "      <th>10592</th>\n",
              "      <td>0.123753</td>\n",
              "      <td>-0.948594</td>\n",
              "      <td>-0.814632</td>\n",
              "      <td>0.0</td>\n",
              "      <td>1.0</td>\n",
              "      <td>0.0</td>\n",
              "      <td>0.0</td>\n",
              "      <td>0.0</td>\n",
              "      <td>0.0</td>\n",
              "      <td>0.0</td>\n",
              "      <td>1.0</td>\n",
              "      <td>0.0</td>\n",
              "      <td>0.0</td>\n",
              "      <td>0.0</td>\n",
              "      <td>1.0</td>\n",
              "      <td>0.0</td>\n",
              "      <td>0.0</td>\n",
              "      <td>0.0</td>\n",
              "      <td>1.0</td>\n",
              "      <td>0.0</td>\n",
              "      <td>0.0</td>\n",
              "      <td>1.0</td>\n",
              "      <td>0.0</td>\n",
              "      <td>0.0</td>\n",
              "      <td>1.0</td>\n",
              "      <td>0.0</td>\n",
              "      <td>0.0</td>\n",
              "      <td>0.0</td>\n",
              "      <td>1.0</td>\n",
              "      <td>0.0</td>\n",
              "      <td>0.0</td>\n",
              "      <td>0.0</td>\n",
              "      <td>0.0</td>\n",
              "      <td>0.0</td>\n",
              "      <td>1.0</td>\n",
              "      <td>1.0</td>\n",
              "      <td>0.0</td>\n",
              "      <td>1.0</td>\n",
              "      <td>0.0</td>\n",
              "    </tr>\n",
              "    <tr>\n",
              "      <th>10593</th>\n",
              "      <td>-0.208397</td>\n",
              "      <td>0.781506</td>\n",
              "      <td>-0.814632</td>\n",
              "      <td>0.0</td>\n",
              "      <td>1.0</td>\n",
              "      <td>0.0</td>\n",
              "      <td>0.0</td>\n",
              "      <td>0.0</td>\n",
              "      <td>0.0</td>\n",
              "      <td>0.0</td>\n",
              "      <td>0.0</td>\n",
              "      <td>1.0</td>\n",
              "      <td>0.0</td>\n",
              "      <td>0.0</td>\n",
              "      <td>0.0</td>\n",
              "      <td>0.0</td>\n",
              "      <td>1.0</td>\n",
              "      <td>0.0</td>\n",
              "      <td>1.0</td>\n",
              "      <td>0.0</td>\n",
              "      <td>0.0</td>\n",
              "      <td>1.0</td>\n",
              "      <td>0.0</td>\n",
              "      <td>0.0</td>\n",
              "      <td>1.0</td>\n",
              "      <td>0.0</td>\n",
              "      <td>0.0</td>\n",
              "      <td>0.0</td>\n",
              "      <td>1.0</td>\n",
              "      <td>0.0</td>\n",
              "      <td>0.0</td>\n",
              "      <td>0.0</td>\n",
              "      <td>0.0</td>\n",
              "      <td>0.0</td>\n",
              "      <td>1.0</td>\n",
              "      <td>1.0</td>\n",
              "      <td>0.0</td>\n",
              "      <td>1.0</td>\n",
              "      <td>0.0</td>\n",
              "    </tr>\n",
              "    <tr>\n",
              "      <th>10594</th>\n",
              "      <td>1.784499</td>\n",
              "      <td>-0.960052</td>\n",
              "      <td>0.737595</td>\n",
              "      <td>0.0</td>\n",
              "      <td>1.0</td>\n",
              "      <td>0.0</td>\n",
              "      <td>0.0</td>\n",
              "      <td>0.0</td>\n",
              "      <td>0.0</td>\n",
              "      <td>1.0</td>\n",
              "      <td>0.0</td>\n",
              "      <td>0.0</td>\n",
              "      <td>0.0</td>\n",
              "      <td>0.0</td>\n",
              "      <td>0.0</td>\n",
              "      <td>1.0</td>\n",
              "      <td>0.0</td>\n",
              "      <td>0.0</td>\n",
              "      <td>1.0</td>\n",
              "      <td>0.0</td>\n",
              "      <td>0.0</td>\n",
              "      <td>1.0</td>\n",
              "      <td>0.0</td>\n",
              "      <td>0.0</td>\n",
              "      <td>1.0</td>\n",
              "      <td>0.0</td>\n",
              "      <td>0.0</td>\n",
              "      <td>0.0</td>\n",
              "      <td>0.0</td>\n",
              "      <td>1.0</td>\n",
              "      <td>0.0</td>\n",
              "      <td>0.0</td>\n",
              "      <td>0.0</td>\n",
              "      <td>0.0</td>\n",
              "      <td>1.0</td>\n",
              "      <td>1.0</td>\n",
              "      <td>0.0</td>\n",
              "      <td>1.0</td>\n",
              "      <td>0.0</td>\n",
              "    </tr>\n",
              "    <tr>\n",
              "      <th>10595</th>\n",
              "      <td>1.120200</td>\n",
              "      <td>-0.039623</td>\n",
              "      <td>-0.814632</td>\n",
              "      <td>0.0</td>\n",
              "      <td>1.0</td>\n",
              "      <td>0.0</td>\n",
              "      <td>0.0</td>\n",
              "      <td>0.0</td>\n",
              "      <td>0.0</td>\n",
              "      <td>0.0</td>\n",
              "      <td>1.0</td>\n",
              "      <td>0.0</td>\n",
              "      <td>0.0</td>\n",
              "      <td>0.0</td>\n",
              "      <td>0.0</td>\n",
              "      <td>1.0</td>\n",
              "      <td>0.0</td>\n",
              "      <td>0.0</td>\n",
              "      <td>1.0</td>\n",
              "      <td>0.0</td>\n",
              "      <td>0.0</td>\n",
              "      <td>1.0</td>\n",
              "      <td>0.0</td>\n",
              "      <td>0.0</td>\n",
              "      <td>1.0</td>\n",
              "      <td>0.0</td>\n",
              "      <td>0.0</td>\n",
              "      <td>0.0</td>\n",
              "      <td>1.0</td>\n",
              "      <td>0.0</td>\n",
              "      <td>0.0</td>\n",
              "      <td>1.0</td>\n",
              "      <td>0.0</td>\n",
              "      <td>0.0</td>\n",
              "      <td>0.0</td>\n",
              "      <td>1.0</td>\n",
              "      <td>0.0</td>\n",
              "      <td>1.0</td>\n",
              "      <td>0.0</td>\n",
              "    </tr>\n",
              "  </tbody>\n",
              "</table>\n",
              "<p>10596 rows × 39 columns</p>\n",
              "</div>"
            ],
            "text/plain": [
              "             0         1         2    3    4   ...   34   35   36   37   38\n",
              "0     -0.761979  0.254456 -0.814632  0.0  0.0  ...  0.0  1.0  0.0  1.0  0.0\n",
              "1     -0.540546 -0.135103 -0.814632  0.0  1.0  ...  0.0  1.0  0.0  1.0  0.0\n",
              "2      0.788051  0.109326 -0.038518  0.0  1.0  ...  0.0  1.0  0.0  1.0  0.0\n",
              "3      0.677335 -1.215938 -0.038518  0.0  1.0  ...  0.0  1.0  0.0  1.0  0.0\n",
              "4      0.345186  0.082592 -0.814632  0.0  1.0  ...  0.0  1.0  0.0  1.0  0.0\n",
              "...         ...       ...       ...  ...  ...  ...  ...  ...  ...  ...  ...\n",
              "10591  0.123753  2.305370 -0.038518  0.0  1.0  ...  0.0  0.0  1.0  0.0  1.0\n",
              "10592  0.123753 -0.948594 -0.814632  0.0  1.0  ...  1.0  1.0  0.0  1.0  0.0\n",
              "10593 -0.208397  0.781506 -0.814632  0.0  1.0  ...  1.0  1.0  0.0  1.0  0.0\n",
              "10594  1.784499 -0.960052  0.737595  0.0  1.0  ...  1.0  1.0  0.0  1.0  0.0\n",
              "10595  1.120200 -0.039623 -0.814632  0.0  1.0  ...  0.0  1.0  0.0  1.0  0.0\n",
              "\n",
              "[10596 rows x 39 columns]"
            ]
          },
          "metadata": {
            "tags": []
          },
          "execution_count": 46
        }
      ]
    },
    {
      "cell_type": "code",
      "metadata": {
        "id": "Zarf030o0ETK"
      },
      "source": [
        "call duration"
      ],
      "execution_count": null,
      "outputs": []
    },
    {
      "cell_type": "markdown",
      "metadata": {
        "id": "nT_X2OdKvHxp"
      },
      "source": [
        "## Modeling"
      ]
    },
    {
      "cell_type": "code",
      "metadata": {
        "id": "t_E1iC1BvGGW"
      },
      "source": [
        "# import some classification models\n",
        "from sklearn.ensemble import RandomForestClassifier\n",
        "from sklearn.ensemble import AdaBoostClassifier\n",
        "from xgboost.sklearn import XGBClassifier\n",
        "from sklearn.linear_model import LogisticRegression\n",
        "from sklearn.svm import SVC\n",
        "from sklearn import svm\n",
        "from sklearn.neighbors import KNeighborsClassifier\n",
        "from sklearn.naive_bayes import GaussianNB\n",
        "\n",
        "# import needed functions\n",
        "from sklearn.model_selection import cross_validate\n",
        "from sklearn.metrics import accuracy_score\n",
        "from sklearn.metrics import f1_score\n",
        "from sklearn.metrics import recall_score"
      ],
      "execution_count": null,
      "outputs": []
    },
    {
      "cell_type": "code",
      "metadata": {
        "colab": {
          "base_uri": "https://localhost:8080/"
        },
        "id": "9qmP0i48upsL",
        "outputId": "e283425c-9797-4271-8f4a-b507c13d2fca"
      },
      "source": [
        "models = {}\n",
        "\n",
        "# models with default parameter\n",
        "# models['LogisticRegression'] = LogisticRegression()\n",
        "models['RandomForest'] = RandomForestClassifier()\n",
        "# models['AdaBoost'] = AdaBoostClassifier()\n",
        "models['XGBoost'] = XGBClassifier()\n",
        "models['SVM'] = SVC()\n",
        "models['KNN'] = KNeighborsClassifier()\n",
        "# models['Naive_Bayes'] = GaussianNB()\n",
        "\n",
        "# Cross validation\n",
        "for model_name in models:\n",
        "    model = models[model_name]\n",
        "    results = cross_validate(model, x_train_prepared, y_train, cv=5, scoring=['accuracy', 'f1'], return_train_score=True)\n",
        "    \n",
        "    print(model_name + \":\")\n",
        "    print(\"Accuracy:\" , 'train: ', results['train_accuracy'].mean(), '| test: ', results['test_accuracy'].mean())\n",
        "    print(\"F1-score:\" , 'train: ', results['train_f1'].mean(), '| test: ', results['test_f1'].mean())\n",
        "    print(\"---------------------------------------------------------\")"
      ],
      "execution_count": null,
      "outputs": [
        {
          "output_type": "stream",
          "text": [
            "RandomForest:\n",
            "Accuracy: train:  0.999989888265332 | test:  0.9248472927117385\n",
            "F1-score: train:  0.9999398857829878 | test:  0.3840769758842564\n",
            "---------------------------------------------------------\n",
            "XGBoost:\n",
            "Accuracy: train:  0.9307021795001006 | test:  0.928770766456916\n",
            "F1-score: train:  0.40141984001596587 | test:  0.38407180792234125\n",
            "---------------------------------------------------------\n",
            "SVM:\n",
            "Accuracy: train:  0.929347167176162 | test:  0.9269910193356697\n",
            "F1-score: train:  0.36541054627425973 | test:  0.3438201592022851\n",
            "---------------------------------------------------------\n",
            "KNN:\n",
            "Accuracy: train:  0.9377401605364927 | test:  0.9225823786571379\n",
            "F1-score: train:  0.49583801887014367 | test:  0.3621657361372365\n",
            "---------------------------------------------------------\n"
          ],
          "name": "stdout"
        }
      ]
    },
    {
      "cell_type": "markdown",
      "metadata": {
        "id": "CeE4ncZfcGIW"
      },
      "source": [
        "Modeling Part 1"
      ]
    },
    {
      "cell_type": "markdown",
      "metadata": {
        "id": "eQlpXscF0gFN"
      },
      "source": [
        "## SMOTE"
      ]
    },
    {
      "cell_type": "code",
      "metadata": {
        "colab": {
          "base_uri": "https://localhost:8080/"
        },
        "id": "QWdRD0L90gFN",
        "outputId": "c45cb446-1f77-4531-de20-0e10eeb82eb4"
      },
      "source": [
        "from collections import Counter\n",
        "from imblearn.combine import SMOTETomek\n",
        "os=SMOTETomek(0.75)\n",
        "x_train_prepared_ns,y_train_ns=os.fit_sample(x_train_prepared,y_train)\n",
        "print(\"The number of classes before fit {}\".format(Counter(y_train)))\n",
        "print(\"The number of classes after fit {}\".format(Counter(y_train_ns)))\n",
        "\n",
        "x_test_prepared_ns,y_test_ns=os.fit_sample(x_test_prepared,y_test)"
      ],
      "execution_count": null,
      "outputs": [
        {
          "output_type": "stream",
          "text": [
            "The number of classes before fit Counter({0: 22643, 1: 2080})\n",
            "The number of classes after fit Counter({0: 22498, 1: 16837})\n"
          ],
          "name": "stdout"
        }
      ]
    },
    {
      "cell_type": "code",
      "metadata": {
        "colab": {
          "base_uri": "https://localhost:8080/"
        },
        "id": "rE_ypQxD0gFO",
        "outputId": "4d99bc9f-e223-49b0-e884-b5efdee174d9"
      },
      "source": [
        "models = {}\n",
        "\n",
        "# models with default parameter\n",
        "# models['LogisticRegression'] = LogisticRegression()\n",
        "models['RandomForest'] = RandomForestClassifier()\n",
        "# models['AdaBoost'] = AdaBoostClassifier()\n",
        "models['XGBoost'] = XGBClassifier()\n",
        "models['SVM'] = SVC()\n",
        "models['KNN'] = KNeighborsClassifier()\n",
        "# models['Naive_Bayes'] = GaussianNB()\n",
        "\n",
        "# Cross validation\n",
        "for model_name in models:\n",
        "    model = models[model_name]\n",
        "    results = cross_validate(model, x_train_prepared_ns, y_train_ns, cv=5, scoring=['accuracy', 'f1'], return_train_score=True)\n",
        "    \n",
        "    print(model_name + \":\")\n",
        "    print(\"Accuracy:\" , 'train: ', results['train_accuracy'].mean(), '| test: ', results['test_accuracy'].mean())\n",
        "    print(\"F1-score:\" , 'train: ', results['train_f1'].mean(), '| test: ', results['test_f1'].mean())\n",
        "    print(\"---------------------------------------------------------\")"
      ],
      "execution_count": null,
      "outputs": [
        {
          "output_type": "stream",
          "text": [
            "RandomForest:\n",
            "Accuracy: train:  1.0 | test:  0.9528155586627685\n",
            "F1-score: train:  1.0 | test:  0.9424769179482475\n",
            "---------------------------------------------------------\n",
            "XGBoost:\n",
            "Accuracy: train:  0.9095906953095207 | test:  0.9022499046650566\n",
            "F1-score: train:  0.8946226711235802 | test:  0.8829047734459774\n",
            "---------------------------------------------------------\n",
            "SVM:\n",
            "Accuracy: train:  0.8969047921698234 | test:  0.886055675606966\n",
            "F1-score: train:  0.8803433674278729 | test:  0.866946619475981\n",
            "---------------------------------------------------------\n",
            "KNN:\n",
            "Accuracy: train:  0.9365196389983476 | test:  0.9093174018050082\n",
            "F1-score: train:  0.9304617213501961 | test:  0.9026616452598113\n",
            "---------------------------------------------------------\n"
          ],
          "name": "stdout"
        }
      ]
    },
    {
      "cell_type": "markdown",
      "metadata": {
        "id": "6vCNGJyBZZlD"
      },
      "source": [
        "## Hyperparameter Tuning"
      ]
    },
    {
      "cell_type": "code",
      "metadata": {
        "id": "1pyOZvbduppp"
      },
      "source": [
        "from sklearn.model_selection import RandomizedSearchCV\r\n",
        "from sklearn.model_selection import GridSearchCV"
      ],
      "execution_count": null,
      "outputs": []
    },
    {
      "cell_type": "markdown",
      "metadata": {
        "id": "hEKivEo_RvSU"
      },
      "source": [
        "#Random Forest"
      ]
    },
    {
      "cell_type": "code",
      "metadata": {
        "id": "s5mJyUVGRybJ"
      },
      "source": [
        "rand_clf = RandomForestClassifier()"
      ],
      "execution_count": null,
      "outputs": []
    },
    {
      "cell_type": "code",
      "metadata": {
        "id": "pFFl-oclZ49X"
      },
      "source": [
        "random_param = {\n",
        "    \"n_estimators\" : range(10,130,20),\n",
        "    'max_depth' : range(2,20,1),\n",
        "    'min_samples_leaf' : range(1,10,1),\n",
        "    'min_samples_split': range(2,10,1),\n",
        "    'max_features' : ['auto','log2']\n",
        "}"
      ],
      "execution_count": null,
      "outputs": []
    },
    {
      "cell_type": "code",
      "metadata": {
        "colab": {
          "base_uri": "https://localhost:8080/"
        },
        "id": "JjCkGeSlaJtU",
        "outputId": "66a7aa79-0d69-4878-8e27-e1321f3238e2"
      },
      "source": [
        "rand_search = RandomizedSearchCV(rand_clf,random_param,n_jobs =-1,verbose = 3)\r\n",
        "rand_search.fit(x_train_prepared_ns, y_train_ns)"
      ],
      "execution_count": null,
      "outputs": [
        {
          "output_type": "stream",
          "text": [
            "Fitting 5 folds for each of 10 candidates, totalling 50 fits\n"
          ],
          "name": "stdout"
        },
        {
          "output_type": "stream",
          "text": [
            "[Parallel(n_jobs=-1)]: Using backend LokyBackend with 2 concurrent workers.\n",
            "[Parallel(n_jobs=-1)]: Done  28 tasks      | elapsed:   15.0s\n",
            "[Parallel(n_jobs=-1)]: Done  50 out of  50 | elapsed:   30.6s finished\n"
          ],
          "name": "stderr"
        },
        {
          "output_type": "execute_result",
          "data": {
            "text/plain": [
              "RandomizedSearchCV(cv=None, error_score=nan,\n",
              "                   estimator=RandomForestClassifier(bootstrap=True,\n",
              "                                                    ccp_alpha=0.0,\n",
              "                                                    class_weight=None,\n",
              "                                                    criterion='gini',\n",
              "                                                    max_depth=None,\n",
              "                                                    max_features='auto',\n",
              "                                                    max_leaf_nodes=None,\n",
              "                                                    max_samples=None,\n",
              "                                                    min_impurity_decrease=0.0,\n",
              "                                                    min_impurity_split=None,\n",
              "                                                    min_samples_leaf=1,\n",
              "                                                    min_samples_split=2,\n",
              "                                                    min_weight_fraction_leaf=0.0,\n",
              "                                                    n_estimators=100,\n",
              "                                                    n_j...\n",
              "                                                    random_state=None,\n",
              "                                                    verbose=0,\n",
              "                                                    warm_start=False),\n",
              "                   iid='deprecated', n_iter=10, n_jobs=-1,\n",
              "                   param_distributions={'max_depth': range(2, 20),\n",
              "                                        'max_features': ['auto', 'log2'],\n",
              "                                        'min_samples_leaf': range(1, 10),\n",
              "                                        'min_samples_split': range(2, 10),\n",
              "                                        'n_estimators': range(10, 130, 20)},\n",
              "                   pre_dispatch='2*n_jobs', random_state=None, refit=True,\n",
              "                   return_train_score=False, scoring=None, verbose=3)"
            ]
          },
          "metadata": {
            "tags": []
          },
          "execution_count": 55
        }
      ]
    },
    {
      "cell_type": "code",
      "metadata": {
        "colab": {
          "base_uri": "https://localhost:8080/"
        },
        "id": "f3NBLf8YbdmP",
        "outputId": "7613dc71-fb23-4352-f6f9-7fe453976be5"
      },
      "source": [
        "rand_search.best_params_"
      ],
      "execution_count": null,
      "outputs": [
        {
          "output_type": "execute_result",
          "data": {
            "text/plain": [
              "{'max_depth': 18,\n",
              " 'max_features': 'auto',\n",
              " 'min_samples_leaf': 6,\n",
              " 'min_samples_split': 3,\n",
              " 'n_estimators': 30}"
            ]
          },
          "metadata": {
            "tags": []
          },
          "execution_count": 56
        }
      ]
    },
    {
      "cell_type": "code",
      "metadata": {
        "id": "or0MwkWmbh5e"
      },
      "source": [
        "rand_clf = RandomForestClassifier(max_depth = 14,\n",
        " max_features = 'auto',\n",
        " min_samples_leaf = 7,\n",
        " min_samples_split= 3,\n",
        " n_estimators = 30)"
      ],
      "execution_count": null,
      "outputs": []
    },
    {
      "cell_type": "code",
      "metadata": {
        "colab": {
          "base_uri": "https://localhost:8080/"
        },
        "id": "QUp1IwyebyRM",
        "outputId": "559079e7-f8db-4e1e-f3da-197ddead5dfd"
      },
      "source": [
        "rand_clf.fit(x_train_prepared_ns,y_train_ns)\r\n",
        "rnd_pred=rand_clf.predict(x_test_prepared_ns)\r\n",
        "\r\n",
        "print(accuracy_score(rnd_pred,y_test_ns))\r\n",
        "f1_score(rnd_pred,y_test_ns)"
      ],
      "execution_count": null,
      "outputs": [
        {
          "output_type": "stream",
          "text": [
            "0.8933514728498758\n"
          ],
          "name": "stdout"
        },
        {
          "output_type": "execute_result",
          "data": {
            "text/plain": [
              "0.8721729883020205"
            ]
          },
          "metadata": {
            "tags": []
          },
          "execution_count": 58
        }
      ]
    },
    {
      "cell_type": "markdown",
      "metadata": {
        "id": "S2hh2IDhpbJL"
      },
      "source": [
        "## XGBoost"
      ]
    },
    {
      "cell_type": "code",
      "metadata": {
        "id": "UZZ50mODpaUH"
      },
      "source": [
        "from sklearn.model_selection import GridSearchCV\r\n",
        "random_grid={\r\n",
        "   \r\n",
        "    ' learning_rate':[1,0.5,0.1,0.01,0.001],\r\n",
        "    'max_depth': [3,5,10,20],\r\n",
        "    'n_estimators':[10,50,100,200]\r\n",
        "    \r\n",
        "}"
      ],
      "execution_count": null,
      "outputs": []
    },
    {
      "cell_type": "code",
      "metadata": {
        "colab": {
          "background_save": true,
          "base_uri": "https://localhost:8080/"
        },
        "id": "tKIEjC2EqKvd",
        "outputId": "aca849f2-3106-4ef1-ac5c-983c71071098"
      },
      "source": [
        "rand_search= RandomizedSearchCV(XGBClassifier(objective='binary:logistic'),random_grid, verbose=3)\r\n",
        "rand_search.fit(x_train_prepared_ns,y_train_ns)"
      ],
      "execution_count": null,
      "outputs": [
        {
          "output_type": "stream",
          "text": [
            "Fitting 5 folds for each of 10 candidates, totalling 50 fits\n",
            "[CV] n_estimators=100, max_depth=3,  learning_rate=1 .................\n"
          ],
          "name": "stdout"
        },
        {
          "output_type": "stream",
          "text": [
            "[Parallel(n_jobs=1)]: Using backend SequentialBackend with 1 concurrent workers.\n"
          ],
          "name": "stderr"
        },
        {
          "output_type": "stream",
          "text": [
            "[CV]  n_estimators=100, max_depth=3,  learning_rate=1, score=0.835, total=   2.8s\n",
            "[CV] n_estimators=100, max_depth=3,  learning_rate=1 .................\n"
          ],
          "name": "stdout"
        },
        {
          "output_type": "stream",
          "text": [
            "[Parallel(n_jobs=1)]: Done   1 out of   1 | elapsed:    2.8s remaining:    0.0s\n"
          ],
          "name": "stderr"
        },
        {
          "output_type": "stream",
          "text": [
            "[CV]  n_estimators=100, max_depth=3,  learning_rate=1, score=0.919, total=   2.7s\n",
            "[CV] n_estimators=100, max_depth=3,  learning_rate=1 .................\n"
          ],
          "name": "stdout"
        },
        {
          "output_type": "stream",
          "text": [
            "[Parallel(n_jobs=1)]: Done   2 out of   2 | elapsed:    5.5s remaining:    0.0s\n"
          ],
          "name": "stderr"
        },
        {
          "output_type": "stream",
          "text": [
            "[CV]  n_estimators=100, max_depth=3,  learning_rate=1, score=0.924, total=   2.7s\n",
            "[CV] n_estimators=100, max_depth=3,  learning_rate=1 .................\n",
            "[CV]  n_estimators=100, max_depth=3,  learning_rate=1, score=0.915, total=   2.7s\n",
            "[CV] n_estimators=100, max_depth=3,  learning_rate=1 .................\n",
            "[CV]  n_estimators=100, max_depth=3,  learning_rate=1, score=0.919, total=   2.7s\n",
            "[CV] n_estimators=10, max_depth=10,  learning_rate=0.01 ..............\n",
            "[CV]  n_estimators=10, max_depth=10,  learning_rate=0.01, score=0.849, total=   1.3s\n",
            "[CV] n_estimators=10, max_depth=10,  learning_rate=0.01 ..............\n",
            "[CV]  n_estimators=10, max_depth=10,  learning_rate=0.01, score=0.895, total=   1.2s\n",
            "[CV] n_estimators=10, max_depth=10,  learning_rate=0.01 ..............\n",
            "[CV]  n_estimators=10, max_depth=10,  learning_rate=0.01, score=0.905, total=   1.3s\n",
            "[CV] n_estimators=10, max_depth=10,  learning_rate=0.01 ..............\n",
            "[CV]  n_estimators=10, max_depth=10,  learning_rate=0.01, score=0.894, total=   1.2s\n",
            "[CV] n_estimators=10, max_depth=10,  learning_rate=0.01 ..............\n",
            "[CV]  n_estimators=10, max_depth=10,  learning_rate=0.01, score=0.899, total=   1.2s\n",
            "[CV] n_estimators=10, max_depth=10,  learning_rate=0.5 ...............\n",
            "[CV]  n_estimators=10, max_depth=10,  learning_rate=0.5, score=0.849, total=   1.3s\n",
            "[CV] n_estimators=10, max_depth=10,  learning_rate=0.5 ...............\n",
            "[CV]  n_estimators=10, max_depth=10,  learning_rate=0.5, score=0.895, total=   1.3s\n",
            "[CV] n_estimators=10, max_depth=10,  learning_rate=0.5 ...............\n",
            "[CV]  n_estimators=10, max_depth=10,  learning_rate=0.5, score=0.905, total=   1.2s\n",
            "[CV] n_estimators=10, max_depth=10,  learning_rate=0.5 ...............\n",
            "[CV]  n_estimators=10, max_depth=10,  learning_rate=0.5, score=0.894, total=   1.2s\n",
            "[CV] n_estimators=10, max_depth=10,  learning_rate=0.5 ...............\n",
            "[CV]  n_estimators=10, max_depth=10,  learning_rate=0.5, score=0.899, total=   1.2s\n",
            "[CV] n_estimators=200, max_depth=20,  learning_rate=0.001 ............\n",
            "[CV]  n_estimators=200, max_depth=20,  learning_rate=0.001, score=0.819, total=  38.8s\n",
            "[CV] n_estimators=200, max_depth=20,  learning_rate=0.001 ............\n",
            "[CV]  n_estimators=200, max_depth=20,  learning_rate=0.001, score=0.973, total=  42.0s\n",
            "[CV] n_estimators=200, max_depth=20,  learning_rate=0.001 ............\n",
            "[CV]  n_estimators=200, max_depth=20,  learning_rate=0.001, score=0.975, total=  42.4s\n",
            "[CV] n_estimators=200, max_depth=20,  learning_rate=0.001 ............\n",
            "[CV]  n_estimators=200, max_depth=20,  learning_rate=0.001, score=0.974, total=  42.1s\n",
            "[CV] n_estimators=200, max_depth=20,  learning_rate=0.001 ............\n",
            "[CV]  n_estimators=200, max_depth=20,  learning_rate=0.001, score=0.973, total=  42.2s\n",
            "[CV] n_estimators=50, max_depth=20,  learning_rate=0.5 ...............\n",
            "[CV]  n_estimators=50, max_depth=20,  learning_rate=0.5, score=0.865, total=  11.8s\n",
            "[CV] n_estimators=50, max_depth=20,  learning_rate=0.5 ...............\n",
            "[CV]  n_estimators=50, max_depth=20,  learning_rate=0.5, score=0.963, total=  12.1s\n",
            "[CV] n_estimators=50, max_depth=20,  learning_rate=0.5 ...............\n",
            "[CV]  n_estimators=50, max_depth=20,  learning_rate=0.5, score=0.966, total=  12.1s\n",
            "[CV] n_estimators=50, max_depth=20,  learning_rate=0.5 ...............\n",
            "[CV]  n_estimators=50, max_depth=20,  learning_rate=0.5, score=0.961, total=  12.2s\n",
            "[CV] n_estimators=50, max_depth=20,  learning_rate=0.5 ...............\n",
            "[CV]  n_estimators=50, max_depth=20,  learning_rate=0.5, score=0.962, total=  12.3s\n",
            "[CV] n_estimators=50, max_depth=3,  learning_rate=0.01 ...............\n",
            "[CV]  n_estimators=50, max_depth=3,  learning_rate=0.01, score=0.835, total=   1.4s\n",
            "[CV] n_estimators=50, max_depth=3,  learning_rate=0.01 ...............\n",
            "[CV]  n_estimators=50, max_depth=3,  learning_rate=0.01, score=0.877, total=   1.4s\n",
            "[CV] n_estimators=50, max_depth=3,  learning_rate=0.01 ...............\n",
            "[CV]  n_estimators=50, max_depth=3,  learning_rate=0.01, score=0.884, total=   1.5s\n",
            "[CV] n_estimators=50, max_depth=3,  learning_rate=0.01 ...............\n",
            "[CV]  n_estimators=50, max_depth=3,  learning_rate=0.01, score=0.866, total=   1.4s\n",
            "[CV] n_estimators=50, max_depth=3,  learning_rate=0.01 ...............\n",
            "[CV]  n_estimators=50, max_depth=3,  learning_rate=0.01, score=0.881, total=   1.4s\n",
            "[CV] n_estimators=50, max_depth=20,  learning_rate=0.01 ..............\n",
            "[CV]  n_estimators=50, max_depth=20,  learning_rate=0.01, score=0.865, total=  11.8s\n",
            "[CV] n_estimators=50, max_depth=20,  learning_rate=0.01 ..............\n",
            "[CV]  n_estimators=50, max_depth=20,  learning_rate=0.01, score=0.963, total=  12.2s\n",
            "[CV] n_estimators=50, max_depth=20,  learning_rate=0.01 ..............\n",
            "[CV]  n_estimators=50, max_depth=20,  learning_rate=0.01, score=0.966, total=  12.2s\n",
            "[CV] n_estimators=50, max_depth=20,  learning_rate=0.01 ..............\n",
            "[CV]  n_estimators=50, max_depth=20,  learning_rate=0.01, score=0.961, total=  12.3s\n",
            "[CV] n_estimators=50, max_depth=20,  learning_rate=0.01 ..............\n",
            "[CV]  n_estimators=50, max_depth=20,  learning_rate=0.01, score=0.962, total=  12.2s\n",
            "[CV] n_estimators=200, max_depth=20,  learning_rate=1 ................\n",
            "[CV]  n_estimators=200, max_depth=20,  learning_rate=1, score=0.819, total=  38.4s\n",
            "[CV] n_estimators=200, max_depth=20,  learning_rate=1 ................\n",
            "[CV]  n_estimators=200, max_depth=20,  learning_rate=1, score=0.973, total=  42.3s\n",
            "[CV] n_estimators=200, max_depth=20,  learning_rate=1 ................\n",
            "[CV]  n_estimators=200, max_depth=20,  learning_rate=1, score=0.975, total=  42.3s\n",
            "[CV] n_estimators=200, max_depth=20,  learning_rate=1 ................\n",
            "[CV]  n_estimators=200, max_depth=20,  learning_rate=1, score=0.974, total=  41.9s\n",
            "[CV] n_estimators=200, max_depth=20,  learning_rate=1 ................\n",
            "[CV]  n_estimators=200, max_depth=20,  learning_rate=1, score=0.973, total=  41.8s\n",
            "[CV] n_estimators=10, max_depth=5,  learning_rate=0.1 ................\n",
            "[CV]  n_estimators=10, max_depth=5,  learning_rate=0.1, score=0.822, total=   0.5s\n",
            "[CV] n_estimators=10, max_depth=5,  learning_rate=0.1 ................\n",
            "[CV]  n_estimators=10, max_depth=5,  learning_rate=0.1, score=0.831, total=   0.5s\n",
            "[CV] n_estimators=10, max_depth=5,  learning_rate=0.1 ................\n",
            "[CV]  n_estimators=10, max_depth=5,  learning_rate=0.1, score=0.838, total=   0.5s\n",
            "[CV] n_estimators=10, max_depth=5,  learning_rate=0.1 ................\n",
            "[CV]  n_estimators=10, max_depth=5,  learning_rate=0.1, score=0.829, total=   0.5s\n",
            "[CV] n_estimators=10, max_depth=5,  learning_rate=0.1 ................\n",
            "[CV]  n_estimators=10, max_depth=5,  learning_rate=0.1, score=0.840, total=   0.5s\n",
            "[CV] n_estimators=100, max_depth=20,  learning_rate=1 ................\n",
            "[CV]  n_estimators=100, max_depth=20,  learning_rate=1, score=0.844, total=  21.4s\n",
            "[CV] n_estimators=100, max_depth=20,  learning_rate=1 ................\n",
            "[CV]  n_estimators=100, max_depth=20,  learning_rate=1, score=0.970, total=  22.9s\n",
            "[CV] n_estimators=100, max_depth=20,  learning_rate=1 ................\n",
            "[CV]  n_estimators=100, max_depth=20,  learning_rate=1, score=0.973, total=  22.8s\n",
            "[CV] n_estimators=100, max_depth=20,  learning_rate=1 ................\n",
            "[CV]  n_estimators=100, max_depth=20,  learning_rate=1, score=0.972, total=  22.8s\n",
            "[CV] n_estimators=100, max_depth=20,  learning_rate=1 ................\n",
            "[CV]  n_estimators=100, max_depth=20,  learning_rate=1, score=0.971, total=  22.9s\n"
          ],
          "name": "stdout"
        },
        {
          "output_type": "stream",
          "text": [
            "[Parallel(n_jobs=1)]: Done  50 out of  50 | elapsed: 11.4min finished\n"
          ],
          "name": "stderr"
        },
        {
          "output_type": "execute_result",
          "data": {
            "text/plain": [
              "RandomizedSearchCV(cv=None, error_score=nan,\n",
              "                   estimator=XGBClassifier(base_score=0.5, booster='gbtree',\n",
              "                                           colsample_bylevel=1,\n",
              "                                           colsample_bynode=1,\n",
              "                                           colsample_bytree=1, gamma=0,\n",
              "                                           learning_rate=0.1, max_delta_step=0,\n",
              "                                           max_depth=3, min_child_weight=1,\n",
              "                                           missing=None, n_estimators=100,\n",
              "                                           n_jobs=1, nthread=None,\n",
              "                                           objective='binary:logistic',\n",
              "                                           random_state=0, reg_alpha=0,\n",
              "                                           reg_lambda=1, scale_pos_weight=1,\n",
              "                                           seed=None, silent=None, subsample=1,\n",
              "                                           verbosity=1),\n",
              "                   iid='deprecated', n_iter=10, n_jobs=None,\n",
              "                   param_distributions={' learning_rate': [1, 0.5, 0.1, 0.01,\n",
              "                                                           0.001],\n",
              "                                        'max_depth': [3, 5, 10, 20],\n",
              "                                        'n_estimators': [10, 50, 100, 200]},\n",
              "                   pre_dispatch='2*n_jobs', random_state=None, refit=True,\n",
              "                   return_train_score=False, scoring=None, verbose=3)"
            ]
          },
          "metadata": {
            "tags": []
          },
          "execution_count": 0
        }
      ]
    },
    {
      "cell_type": "code",
      "metadata": {
        "colab": {
          "background_save": true
        },
        "id": "aIOmsK1Iqv2C",
        "outputId": "dd8d4066-f794-44e6-f300-97e58789e2eb"
      },
      "source": [
        "# To  find the parameters givingmaximum accuracy\r\n",
        "rand_search.best_params_"
      ],
      "execution_count": null,
      "outputs": [
        {
          "output_type": "execute_result",
          "data": {
            "text/plain": [
              "{' learning_rate': 1, 'max_depth': 20, 'n_estimators': 100}"
            ]
          },
          "metadata": {
            "tags": []
          },
          "execution_count": 0
        }
      ]
    },
    {
      "cell_type": "code",
      "metadata": {
        "colab": {
          "background_save": true
        },
        "id": "_e2YxmRMq4xG",
        "outputId": "893fca75-5e5d-4a2f-d23d-4f25546ffd64"
      },
      "source": [
        "# Create new model using the same parameters\r\n",
        "xgb_clf=XGBClassifier(n_estimators = 200,learning_rate=0.5,max_depth=20)\r\n",
        "xgb_clf.fit(x_train_prepared_ns,y_train_ns)\r\n"
      ],
      "execution_count": null,
      "outputs": [
        {
          "output_type": "execute_result",
          "data": {
            "text/plain": [
              "XGBClassifier(base_score=0.5, booster='gbtree', colsample_bylevel=1,\n",
              "              colsample_bynode=1, colsample_bytree=1, gamma=0,\n",
              "              learning_rate=0.5, max_delta_step=0, max_depth=20,\n",
              "              min_child_weight=1, missing=None, n_estimators=100, n_jobs=1,\n",
              "              nthread=None, objective='binary:logistic', random_state=0,\n",
              "              reg_alpha=0, reg_lambda=1, scale_pos_weight=1, seed=None,\n",
              "              silent=None, subsample=1, verbosity=1)"
            ]
          },
          "metadata": {
            "tags": []
          },
          "execution_count": 0
        }
      ]
    },
    {
      "cell_type": "code",
      "metadata": {
        "colab": {
          "background_save": true
        },
        "id": "bEI4JsiJehXC"
      },
      "source": [
        "import pickle\r\n",
        "filename = 'xgboost_model.pickle'\r\n",
        "pickle.dump(xgb_clf, open(filename, 'wb'))\r\n"
      ],
      "execution_count": null,
      "outputs": []
    },
    {
      "cell_type": "code",
      "metadata": {
        "colab": {
          "background_save": true
        },
        "id": "KZ-PD8TYrZPh",
        "outputId": "d76e6c83-2da4-4a1c-9b46-304d53fcfe69"
      },
      "source": [
        "xgb_pred=xgb_clf.predict(x_test_prepared_ns)\r\n",
        "print(accuracy_score(xgb_pred,y_test_ns))\r\n",
        "f1_score(xgb_pred,y_test_ns)"
      ],
      "execution_count": null,
      "outputs": [
        {
          "output_type": "stream",
          "text": [
            "0.9278362711463386\n"
          ],
          "name": "stdout"
        },
        {
          "output_type": "execute_result",
          "data": {
            "text/plain": [
              "0.912794853466762"
            ]
          },
          "metadata": {
            "tags": []
          },
          "execution_count": 0
        }
      ]
    },
    {
      "cell_type": "markdown",
      "metadata": {
        "id": "ifivC3_ae3Pf"
      },
      "source": [
        "## SVM"
      ]
    },
    {
      "cell_type": "code",
      "metadata": {
        "colab": {
          "background_save": true
        },
        "id": "RqL4ukI0e7An"
      },
      "source": [
        "svm_clf = svm.SVC()"
      ],
      "execution_count": null,
      "outputs": []
    },
    {
      "cell_type": "code",
      "metadata": {
        "colab": {
          "background_save": true
        },
        "id": "LUBoIRMze0cA"
      },
      "source": [
        "random_grid = [\n",
        "  {'C': [1, 5, 10, 100, 1000], 'gamma': [0.01, 0.001, 0.0001], 'kernel': ['rbf','sigmoid']},\n",
        " ]"
      ],
      "execution_count": null,
      "outputs": []
    },
    {
      "cell_type": "code",
      "metadata": {
        "colab": {
          "background_save": true
        },
        "id": "VDTkF9lLfPUd"
      },
      "source": [
        "rand_search=RandomizedSearchCV(svm_clf,random_grid, n_jobs=-1)\n"
      ],
      "execution_count": null,
      "outputs": []
    },
    {
      "cell_type": "code",
      "metadata": {
        "id": "n5dcs4O9gCRY"
      },
      "source": [
        "rand_search.fit(x_train_prepared_ns,y_train_ns)"
      ],
      "execution_count": null,
      "outputs": []
    },
    {
      "cell_type": "code",
      "metadata": {
        "id": "A5JTiPyPgP80"
      },
      "source": [
        "rand_search.best_params_"
      ],
      "execution_count": null,
      "outputs": []
    },
    {
      "cell_type": "code",
      "metadata": {
        "id": "wyk8T9aZgoRq"
      },
      "source": [
        "# svm_clf = SVC(C=10, \n",
        "              # gamma= 0.01, kernel= 'rbf')\n",
        "svm_clf = SVC(C=1000, \n",
        "              gamma= 0.001, kernel= 'rbf')"
      ],
      "execution_count": null,
      "outputs": []
    },
    {
      "cell_type": "code",
      "metadata": {
        "id": "AfJ6yP2ng19P"
      },
      "source": [
        "svm_clf.fit(x_train_prepared_ns,y_train_ns)"
      ],
      "execution_count": null,
      "outputs": []
    },
    {
      "cell_type": "code",
      "metadata": {
        "id": "WtmCdyTRg-Jr"
      },
      "source": [
        "svm_pred=svm_clf.predict(x_test_prepared_ns)\n",
        "print(accuracy_score(svm_pred,y_test_ns))\n",
        "f1_score(svm_pred,y_test_ns)"
      ],
      "execution_count": null,
      "outputs": []
    },
    {
      "cell_type": "code",
      "metadata": {
        "id": "FpfsbaeLbzU1"
      },
      "source": [
        ""
      ],
      "execution_count": null,
      "outputs": []
    },
    {
      "cell_type": "markdown",
      "metadata": {
        "id": "QQzyrLVzHpq9"
      },
      "source": [
        "# KNN"
      ]
    },
    {
      "cell_type": "code",
      "metadata": {
        "id": "atBo6VgNupnp"
      },
      "source": [
        "knn=KNeighborsClassifier()\n",
        "random_grid = { 'algorithm' : ['ball_tree', 'kd_tree', 'brute'],\n",
        "               'leaf_size' : [32,34,36,8,40,42,44,46],\n",
        "               'n_neighbors' : [3,5,7,9,10,11,12,13]\n",
        "              }"
      ],
      "execution_count": null,
      "outputs": []
    },
    {
      "cell_type": "code",
      "metadata": {
        "id": "Hvh7cQva9Y8-"
      },
      "source": [
        "rand_search = RandomizedSearchCV(knn, random_grid,verbose=3)\n"
      ],
      "execution_count": null,
      "outputs": []
    },
    {
      "cell_type": "code",
      "metadata": {
        "id": "SxicJTSz-S1r"
      },
      "source": [
        "rand_search.fit(x_train_prepared_ns, y_train_ns)"
      ],
      "execution_count": null,
      "outputs": []
    },
    {
      "cell_type": "code",
      "metadata": {
        "id": "T8ON6zM-_VFB"
      },
      "source": [
        "rand_search.best_params_"
      ],
      "execution_count": null,
      "outputs": []
    },
    {
      "cell_type": "code",
      "metadata": {
        "id": "kbo1qGMsfD3v"
      },
      "source": [
        "rand_clf = rand_search.best_params_"
      ],
      "execution_count": null,
      "outputs": []
    },
    {
      "cell_type": "code",
      "metadata": {
        "id": "FYfkjTeCexkG"
      },
      "source": [
        "filename = 'randomforest_model.pickle'\r\n",
        "pickle.dump(rand_clf, open(filename, 'wb'))"
      ],
      "execution_count": null,
      "outputs": []
    },
    {
      "cell_type": "code",
      "metadata": {
        "id": "k8GgF7k4BmJe"
      },
      "source": [
        "# we will use the best parameters in our Knn algorithm and check if accuracy is increasing.\n",
        "knn_clf= KNeighborsClassifier(algorithm = 'brute', leaf_size =46, n_neighbors=3)"
      ],
      "execution_count": null,
      "outputs": []
    },
    {
      "cell_type": "code",
      "metadata": {
        "id": "GWFKpVErBno2"
      },
      "source": [
        "knn.fit(x_train_prepared_ns,y_train_ns)\n",
        "knn_pred=knn.predict(x_test_prepared_ns)\n",
        "\n",
        "print(accuracy_score(svm_pred,y_test_ns))\n",
        "f1_score(svm_pred,y_test_ns)"
      ],
      "execution_count": null,
      "outputs": []
    },
    {
      "cell_type": "code",
      "metadata": {
        "id": "zSxESRR5BypP"
      },
      "source": [
        ""
      ],
      "execution_count": null,
      "outputs": []
    },
    {
      "cell_type": "markdown",
      "metadata": {
        "id": "eNTiTD0rs5Z8"
      },
      "source": [
        "## Saving the models"
      ]
    },
    {
      "cell_type": "code",
      "metadata": {
        "id": "ZEHzp7Yz0MNi"
      },
      "source": [
        "import pickle\r\n",
        "\r\n",
        "filename = 'randomforest_model4.pickle'\r\n",
        "pickle.dump(rand_clf, open(filename, 'wb'))\r\n",
        "\r\n",
        "loaded_model = pickle.load(open(filename, 'rb'))"
      ],
      "execution_count": null,
      "outputs": []
    },
    {
      "cell_type": "code",
      "metadata": {
        "id": "0olR5ouMWSEJ"
      },
      "source": [
        "filename = 'xgboost_model.pickle'\r\n",
        "pickle.dump(xgb_clf, open(filename, 'wb'))\r\n",
        "\r\n",
        "loaded_model = pickle.load(open(filename, 'rb'))"
      ],
      "execution_count": null,
      "outputs": []
    },
    {
      "cell_type": "code",
      "metadata": {
        "id": "ARDxk86PtLYv"
      },
      "source": [
        "filename = 'svm_model.pickle'\r\n",
        "pickle.dump(svm_clf, open(filename, 'wb'))\r\n",
        "\r\n",
        "loaded_model = pickle.load(open(filename, 'rb'))"
      ],
      "execution_count": null,
      "outputs": []
    },
    {
      "cell_type": "code",
      "metadata": {
        "id": "KByFKBLutMX2"
      },
      "source": [
        "filename = 'knn_model.pickle'\r\n",
        "pickle.dump(knn_clf, open(filename, 'wb'))\r\n",
        "\r\n",
        "loaded_model = pickle.load(open(filename, 'rb'))"
      ],
      "execution_count": null,
      "outputs": []
    }
  ]
}